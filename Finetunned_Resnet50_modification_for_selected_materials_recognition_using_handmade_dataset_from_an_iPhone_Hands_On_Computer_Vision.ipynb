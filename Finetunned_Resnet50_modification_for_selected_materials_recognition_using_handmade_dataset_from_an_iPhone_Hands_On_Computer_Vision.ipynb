{
  "cells": [
    {
      "cell_type": "markdown",
      "source": [
        "## Instalación de librerías y packages"
      ],
      "metadata": {
        "id": "_0n2EakJRgm4"
      }
    },
    {
      "cell_type": "code",
      "execution_count": 1,
      "metadata": {
        "colab": {
          "base_uri": "https://localhost:8080/"
        },
        "id": "eunCtJ4fSIcl",
        "outputId": "b5e3c888-ec06-4b26-c458-8c3588ef9dcd"
      },
      "outputs": [
        {
          "output_type": "stream",
          "name": "stdout",
          "text": [
            "\u001b[2K   \u001b[90m━━━━━━━━━━━━━━━━━━━━━━━━━━━━━━━━━━━━━━━━\u001b[0m \u001b[32m9.4/9.4 MB\u001b[0m \u001b[31m37.4 MB/s\u001b[0m eta \u001b[36m0:00:00\u001b[0m\n",
            "\u001b[2K   \u001b[90m━━━━━━━━━━━━━━━━━━━━━━━━━━━━━━━━━━━━━━━━\u001b[0m \u001b[32m207.3/207.3 kB\u001b[0m \u001b[31m12.3 MB/s\u001b[0m eta \u001b[36m0:00:00\u001b[0m\n",
            "\u001b[2K   \u001b[90m━━━━━━━━━━━━━━━━━━━━━━━━━━━━━━━━━━━━━━━━\u001b[0m \u001b[32m309.1/309.1 kB\u001b[0m \u001b[31m11.8 MB/s\u001b[0m eta \u001b[36m0:00:00\u001b[0m\n",
            "\u001b[2K   \u001b[90m━━━━━━━━━━━━━━━━━━━━━━━━━━━━━━━━━━━━━━━━\u001b[0m \u001b[32m62.7/62.7 kB\u001b[0m \u001b[31m4.6 MB/s\u001b[0m eta \u001b[36m0:00:00\u001b[0m\n",
            "\u001b[?25hCollecting torcheval-nightly\n",
            "  Downloading torcheval_nightly-2024.7.31-py3-none-any.whl.metadata (8.6 kB)\n",
            "Requirement already satisfied: typing-extensions in /usr/local/lib/python3.10/dist-packages (from torcheval-nightly) (4.12.2)\n",
            "Downloading torcheval_nightly-2024.7.31-py3-none-any.whl (192 kB)\n",
            "\u001b[2K   \u001b[90m━━━━━━━━━━━━━━━━━━━━━━━━━━━━━━━━━━━━━━━━\u001b[0m \u001b[32m192.4/192.4 kB\u001b[0m \u001b[31m2.1 MB/s\u001b[0m eta \u001b[36m0:00:00\u001b[0m\n",
            "\u001b[?25hInstalling collected packages: torcheval-nightly\n",
            "Successfully installed torcheval-nightly-2024.7.31\n",
            "Collecting torchinfo\n",
            "  Downloading torchinfo-1.8.0-py3-none-any.whl.metadata (21 kB)\n",
            "Downloading torchinfo-1.8.0-py3-none-any.whl (23 kB)\n",
            "Installing collected packages: torchinfo\n",
            "Successfully installed torchinfo-1.8.0\n",
            "Collecting datasets\n",
            "  Downloading datasets-2.21.0-py3-none-any.whl.metadata (21 kB)\n",
            "Requirement already satisfied: filelock in /usr/local/lib/python3.10/dist-packages (from datasets) (3.15.4)\n",
            "Requirement already satisfied: numpy>=1.17 in /usr/local/lib/python3.10/dist-packages (from datasets) (1.26.4)\n",
            "Collecting pyarrow>=15.0.0 (from datasets)\n",
            "  Downloading pyarrow-17.0.0-cp310-cp310-manylinux_2_28_x86_64.whl.metadata (3.3 kB)\n",
            "Collecting dill<0.3.9,>=0.3.0 (from datasets)\n",
            "  Downloading dill-0.3.8-py3-none-any.whl.metadata (10 kB)\n",
            "Requirement already satisfied: pandas in /usr/local/lib/python3.10/dist-packages (from datasets) (2.1.4)\n",
            "Requirement already satisfied: requests>=2.32.2 in /usr/local/lib/python3.10/dist-packages (from datasets) (2.32.3)\n",
            "Requirement already satisfied: tqdm>=4.66.3 in /usr/local/lib/python3.10/dist-packages (from datasets) (4.66.5)\n",
            "Collecting xxhash (from datasets)\n",
            "  Downloading xxhash-3.5.0-cp310-cp310-manylinux_2_17_x86_64.manylinux2014_x86_64.whl.metadata (12 kB)\n",
            "Collecting multiprocess (from datasets)\n",
            "  Downloading multiprocess-0.70.16-py310-none-any.whl.metadata (7.2 kB)\n",
            "Requirement already satisfied: fsspec<=2024.6.1,>=2023.1.0 in /usr/local/lib/python3.10/dist-packages (from fsspec[http]<=2024.6.1,>=2023.1.0->datasets) (2024.6.1)\n",
            "Requirement already satisfied: aiohttp in /usr/local/lib/python3.10/dist-packages (from datasets) (3.10.5)\n",
            "Requirement already satisfied: huggingface-hub>=0.21.2 in /usr/local/lib/python3.10/dist-packages (from datasets) (0.23.5)\n",
            "Requirement already satisfied: packaging in /usr/local/lib/python3.10/dist-packages (from datasets) (24.1)\n",
            "Requirement already satisfied: pyyaml>=5.1 in /usr/local/lib/python3.10/dist-packages (from datasets) (6.0.2)\n",
            "Requirement already satisfied: aiohappyeyeballs>=2.3.0 in /usr/local/lib/python3.10/dist-packages (from aiohttp->datasets) (2.4.0)\n",
            "Requirement already satisfied: aiosignal>=1.1.2 in /usr/local/lib/python3.10/dist-packages (from aiohttp->datasets) (1.3.1)\n",
            "Requirement already satisfied: attrs>=17.3.0 in /usr/local/lib/python3.10/dist-packages (from aiohttp->datasets) (24.2.0)\n",
            "Requirement already satisfied: frozenlist>=1.1.1 in /usr/local/lib/python3.10/dist-packages (from aiohttp->datasets) (1.4.1)\n",
            "Requirement already satisfied: multidict<7.0,>=4.5 in /usr/local/lib/python3.10/dist-packages (from aiohttp->datasets) (6.0.5)\n",
            "Requirement already satisfied: yarl<2.0,>=1.0 in /usr/local/lib/python3.10/dist-packages (from aiohttp->datasets) (1.9.4)\n",
            "Requirement already satisfied: async-timeout<5.0,>=4.0 in /usr/local/lib/python3.10/dist-packages (from aiohttp->datasets) (4.0.3)\n",
            "Requirement already satisfied: typing-extensions>=3.7.4.3 in /usr/local/lib/python3.10/dist-packages (from huggingface-hub>=0.21.2->datasets) (4.12.2)\n",
            "Requirement already satisfied: charset-normalizer<4,>=2 in /usr/local/lib/python3.10/dist-packages (from requests>=2.32.2->datasets) (3.3.2)\n",
            "Requirement already satisfied: idna<4,>=2.5 in /usr/local/lib/python3.10/dist-packages (from requests>=2.32.2->datasets) (3.8)\n",
            "Requirement already satisfied: urllib3<3,>=1.21.1 in /usr/local/lib/python3.10/dist-packages (from requests>=2.32.2->datasets) (2.0.7)\n",
            "Requirement already satisfied: certifi>=2017.4.17 in /usr/local/lib/python3.10/dist-packages (from requests>=2.32.2->datasets) (2024.7.4)\n",
            "Requirement already satisfied: python-dateutil>=2.8.2 in /usr/local/lib/python3.10/dist-packages (from pandas->datasets) (2.8.2)\n",
            "Requirement already satisfied: pytz>=2020.1 in /usr/local/lib/python3.10/dist-packages (from pandas->datasets) (2024.1)\n",
            "Requirement already satisfied: tzdata>=2022.1 in /usr/local/lib/python3.10/dist-packages (from pandas->datasets) (2024.1)\n",
            "Requirement already satisfied: six>=1.5 in /usr/local/lib/python3.10/dist-packages (from python-dateutil>=2.8.2->pandas->datasets) (1.16.0)\n",
            "Downloading datasets-2.21.0-py3-none-any.whl (527 kB)\n",
            "\u001b[2K   \u001b[90m━━━━━━━━━━━━━━━━━━━━━━━━━━━━━━━━━━━━━━━━\u001b[0m \u001b[32m527.3/527.3 kB\u001b[0m \u001b[31m19.0 MB/s\u001b[0m eta \u001b[36m0:00:00\u001b[0m\n",
            "\u001b[?25hDownloading dill-0.3.8-py3-none-any.whl (116 kB)\n",
            "\u001b[2K   \u001b[90m━━━━━━━━━━━━━━━━━━━━━━━━━━━━━━━━━━━━━━━━\u001b[0m \u001b[32m116.3/116.3 kB\u001b[0m \u001b[31m11.1 MB/s\u001b[0m eta \u001b[36m0:00:00\u001b[0m\n",
            "\u001b[?25hDownloading pyarrow-17.0.0-cp310-cp310-manylinux_2_28_x86_64.whl (39.9 MB)\n",
            "\u001b[2K   \u001b[90m━━━━━━━━━━━━━━━━━━━━━━━━━━━━━━━━━━━━━━━━\u001b[0m \u001b[32m39.9/39.9 MB\u001b[0m \u001b[31m31.5 MB/s\u001b[0m eta \u001b[36m0:00:00\u001b[0m\n",
            "\u001b[?25hDownloading multiprocess-0.70.16-py310-none-any.whl (134 kB)\n",
            "\u001b[2K   \u001b[90m━━━━━━━━━━━━━━━━━━━━━━━━━━━━━━━━━━━━━━━━\u001b[0m \u001b[32m134.8/134.8 kB\u001b[0m \u001b[31m12.2 MB/s\u001b[0m eta \u001b[36m0:00:00\u001b[0m\n",
            "\u001b[?25hDownloading xxhash-3.5.0-cp310-cp310-manylinux_2_17_x86_64.manylinux2014_x86_64.whl (194 kB)\n",
            "\u001b[2K   \u001b[90m━━━━━━━━━━━━━━━━━━━━━━━━━━━━━━━━━━━━━━━━\u001b[0m \u001b[32m194.1/194.1 kB\u001b[0m \u001b[31m13.0 MB/s\u001b[0m eta \u001b[36m0:00:00\u001b[0m\n",
            "\u001b[?25hInstalling collected packages: xxhash, pyarrow, dill, multiprocess, datasets\n",
            "  Attempting uninstall: pyarrow\n",
            "    Found existing installation: pyarrow 14.0.2\n",
            "    Uninstalling pyarrow-14.0.2:\n",
            "      Successfully uninstalled pyarrow-14.0.2\n",
            "\u001b[31mERROR: pip's dependency resolver does not currently take into account all the packages that are installed. This behaviour is the source of the following dependency conflicts.\n",
            "cudf-cu12 24.4.1 requires pyarrow<15.0.0a0,>=14.0.1, but you have pyarrow 17.0.0 which is incompatible.\n",
            "ibis-framework 8.0.0 requires pyarrow<16,>=2, but you have pyarrow 17.0.0 which is incompatible.\u001b[0m\u001b[31m\n",
            "\u001b[0mSuccessfully installed datasets-2.21.0 dill-0.3.8 multiprocess-0.70.16 pyarrow-17.0.0 xxhash-3.5.0\n",
            "Collecting torchmetrics\n",
            "  Downloading torchmetrics-1.4.1-py3-none-any.whl.metadata (20 kB)\n",
            "Requirement already satisfied: numpy>1.20.0 in /usr/local/lib/python3.10/dist-packages (from torchmetrics) (1.26.4)\n",
            "Requirement already satisfied: packaging>17.1 in /usr/local/lib/python3.10/dist-packages (from torchmetrics) (24.1)\n",
            "Requirement already satisfied: torch>=1.10.0 in /usr/local/lib/python3.10/dist-packages (from torchmetrics) (2.4.0+cu121)\n",
            "Collecting lightning-utilities>=0.8.0 (from torchmetrics)\n",
            "  Downloading lightning_utilities-0.11.6-py3-none-any.whl.metadata (5.2 kB)\n",
            "Requirement already satisfied: setuptools in /usr/local/lib/python3.10/dist-packages (from lightning-utilities>=0.8.0->torchmetrics) (71.0.4)\n",
            "Requirement already satisfied: typing-extensions in /usr/local/lib/python3.10/dist-packages (from lightning-utilities>=0.8.0->torchmetrics) (4.12.2)\n",
            "Requirement already satisfied: filelock in /usr/local/lib/python3.10/dist-packages (from torch>=1.10.0->torchmetrics) (3.15.4)\n",
            "Requirement already satisfied: sympy in /usr/local/lib/python3.10/dist-packages (from torch>=1.10.0->torchmetrics) (1.13.2)\n",
            "Requirement already satisfied: networkx in /usr/local/lib/python3.10/dist-packages (from torch>=1.10.0->torchmetrics) (3.3)\n",
            "Requirement already satisfied: jinja2 in /usr/local/lib/python3.10/dist-packages (from torch>=1.10.0->torchmetrics) (3.1.4)\n",
            "Requirement already satisfied: fsspec in /usr/local/lib/python3.10/dist-packages (from torch>=1.10.0->torchmetrics) (2024.6.1)\n",
            "Requirement already satisfied: MarkupSafe>=2.0 in /usr/local/lib/python3.10/dist-packages (from jinja2->torch>=1.10.0->torchmetrics) (2.1.5)\n",
            "Requirement already satisfied: mpmath<1.4,>=1.1.0 in /usr/local/lib/python3.10/dist-packages (from sympy->torch>=1.10.0->torchmetrics) (1.3.0)\n",
            "Downloading torchmetrics-1.4.1-py3-none-any.whl (866 kB)\n",
            "\u001b[2K   \u001b[90m━━━━━━━━━━━━━━━━━━━━━━━━━━━━━━━━━━━━━━━━\u001b[0m \u001b[32m866.2/866.2 kB\u001b[0m \u001b[31m17.0 MB/s\u001b[0m eta \u001b[36m0:00:00\u001b[0m\n",
            "\u001b[?25hDownloading lightning_utilities-0.11.6-py3-none-any.whl (26 kB)\n",
            "Installing collected packages: lightning-utilities, torchmetrics\n",
            "Successfully installed lightning-utilities-0.11.6 torchmetrics-1.4.1\n",
            "Collecting onnxruntime\n",
            "  Downloading onnxruntime-1.19.0-cp310-cp310-manylinux_2_27_x86_64.manylinux_2_28_x86_64.whl.metadata (4.3 kB)\n",
            "Collecting coloredlogs (from onnxruntime)\n",
            "  Downloading coloredlogs-15.0.1-py2.py3-none-any.whl.metadata (12 kB)\n",
            "Requirement already satisfied: flatbuffers in /usr/local/lib/python3.10/dist-packages (from onnxruntime) (24.3.25)\n",
            "Requirement already satisfied: numpy>=1.21.6 in /usr/local/lib/python3.10/dist-packages (from onnxruntime) (1.26.4)\n",
            "Requirement already satisfied: packaging in /usr/local/lib/python3.10/dist-packages (from onnxruntime) (24.1)\n",
            "Requirement already satisfied: protobuf in /usr/local/lib/python3.10/dist-packages (from onnxruntime) (3.20.3)\n",
            "Requirement already satisfied: sympy in /usr/local/lib/python3.10/dist-packages (from onnxruntime) (1.13.2)\n",
            "Collecting humanfriendly>=9.1 (from coloredlogs->onnxruntime)\n",
            "  Downloading humanfriendly-10.0-py2.py3-none-any.whl.metadata (9.2 kB)\n",
            "Requirement already satisfied: mpmath<1.4,>=1.1.0 in /usr/local/lib/python3.10/dist-packages (from sympy->onnxruntime) (1.3.0)\n",
            "Downloading onnxruntime-1.19.0-cp310-cp310-manylinux_2_27_x86_64.manylinux_2_28_x86_64.whl (13.2 MB)\n",
            "\u001b[2K   \u001b[90m━━━━━━━━━━━━━━━━━━━━━━━━━━━━━━━━━━━━━━━━\u001b[0m \u001b[32m13.2/13.2 MB\u001b[0m \u001b[31m63.7 MB/s\u001b[0m eta \u001b[36m0:00:00\u001b[0m\n",
            "\u001b[?25hDownloading coloredlogs-15.0.1-py2.py3-none-any.whl (46 kB)\n",
            "\u001b[2K   \u001b[90m━━━━━━━━━━━━━━━━━━━━━━━━━━━━━━━━━━━━━━━━\u001b[0m \u001b[32m46.0/46.0 kB\u001b[0m \u001b[31m3.7 MB/s\u001b[0m eta \u001b[36m0:00:00\u001b[0m\n",
            "\u001b[?25hDownloading humanfriendly-10.0-py2.py3-none-any.whl (86 kB)\n",
            "\u001b[2K   \u001b[90m━━━━━━━━━━━━━━━━━━━━━━━━━━━━━━━━━━━━━━━━\u001b[0m \u001b[32m86.8/86.8 kB\u001b[0m \u001b[31m7.6 MB/s\u001b[0m eta \u001b[36m0:00:00\u001b[0m\n",
            "\u001b[?25hInstalling collected packages: humanfriendly, coloredlogs, onnxruntime\n",
            "Successfully installed coloredlogs-15.0.1 humanfriendly-10.0 onnxruntime-1.19.0\n",
            "Collecting onnxscript\n",
            "  Downloading onnxscript-0.1.0.dev20240901-py3-none-any.whl.metadata (14 kB)\n",
            "Requirement already satisfied: numpy in /usr/local/lib/python3.10/dist-packages (from onnxscript) (1.26.4)\n",
            "Collecting onnx>=1.16 (from onnxscript)\n",
            "  Downloading onnx-1.16.2-cp310-cp310-manylinux_2_17_x86_64.manylinux2014_x86_64.whl.metadata (16 kB)\n",
            "Requirement already satisfied: typing-extensions in /usr/local/lib/python3.10/dist-packages (from onnxscript) (4.12.2)\n",
            "Requirement already satisfied: ml-dtypes in /usr/local/lib/python3.10/dist-packages (from onnxscript) (0.4.0)\n",
            "Requirement already satisfied: packaging in /usr/local/lib/python3.10/dist-packages (from onnxscript) (24.1)\n",
            "Requirement already satisfied: protobuf>=3.20.2 in /usr/local/lib/python3.10/dist-packages (from onnx>=1.16->onnxscript) (3.20.3)\n",
            "Downloading onnxscript-0.1.0.dev20240901-py3-none-any.whl (665 kB)\n",
            "\u001b[2K   \u001b[90m━━━━━━━━━━━━━━━━━━━━━━━━━━━━━━━━━━━━━━━━\u001b[0m \u001b[32m665.7/665.7 kB\u001b[0m \u001b[31m17.7 MB/s\u001b[0m eta \u001b[36m0:00:00\u001b[0m\n",
            "\u001b[?25hDownloading onnx-1.16.2-cp310-cp310-manylinux_2_17_x86_64.manylinux2014_x86_64.whl (15.9 MB)\n",
            "\u001b[2K   \u001b[90m━━━━━━━━━━━━━━━━━━━━━━━━━━━━━━━━━━━━━━━━\u001b[0m \u001b[32m15.9/15.9 MB\u001b[0m \u001b[31m48.0 MB/s\u001b[0m eta \u001b[36m0:00:00\u001b[0m\n",
            "\u001b[?25hInstalling collected packages: onnx, onnxscript\n",
            "Successfully installed onnx-1.16.2 onnxscript-0.1.0.dev20240901\n",
            "Requirement already satisfied: onnx in /usr/local/lib/python3.10/dist-packages (1.16.2)\n",
            "Requirement already satisfied: numpy>=1.20 in /usr/local/lib/python3.10/dist-packages (from onnx) (1.26.4)\n",
            "Requirement already satisfied: protobuf>=3.20.2 in /usr/local/lib/python3.10/dist-packages (from onnx) (3.20.3)\n"
          ]
        }
      ],
      "source": [
        "!pip install wandb -qU\n",
        "!pip install torcheval-nightly\n",
        "!pip install torchinfo\n",
        "!pip install datasets\n",
        "!pip install torchmetrics\n",
        "!pip install onnxruntime\n",
        "!pip install onnxscript\n",
        "!pip install onnx"
      ]
    },
    {
      "cell_type": "markdown",
      "source": [
        "Importación de librerías y gpu"
      ],
      "metadata": {
        "id": "de3huAvQRrz2"
      }
    },
    {
      "cell_type": "code",
      "execution_count": 2,
      "metadata": {
        "id": "zWxqNHKD-A1i"
      },
      "outputs": [],
      "source": [
        "import torch\n",
        "import torchvision\n",
        "import torchvision.transforms as transforms\n",
        "import matplotlib.pyplot as plt\n",
        "import numpy as np\n",
        "import wandb\n",
        "import time\n",
        "import onnxruntime\n",
        "from google.colab import files\n",
        "from torchinfo import summary\n",
        "from torchmetrics import Accuracy\n",
        "device = \"cuda\" if torch.cuda.is_available() else \"cpu\""
      ]
    },
    {
      "cell_type": "markdown",
      "metadata": {
        "id": "pY4E3Zgz-cNE"
      },
      "source": [
        "## Carga del dataset y pre-procesamiento de imágenes"
      ]
    },
    {
      "cell_type": "markdown",
      "metadata": {
        "id": "JLJ4f5Q7dqEY"
      },
      "source": [
        "\n",
        "\n",
        "Se usará el dataset creado a partir de las imágenes recopiladas sobre los materiales escogidos para el reconocimiento, este fue clasificado, organizado y publicado en la plataforma **HuggingFace**"
      ]
    },
    {
      "cell_type": "code",
      "execution_count": 3,
      "metadata": {
        "id": "AJ8G85u_fKoT",
        "colab": {
          "base_uri": "https://localhost:8080/",
          "height": 0,
          "referenced_widgets": [
            "5746670e922946c8bdc7f2d6aaf1f0ee",
            "c060ca89cfe24973b6f325f27805e0b1",
            "b562c3b520ef488a99a3228b36055d95",
            "894b5bc8726c49e581b7c8e7dd31420a",
            "f78c7f9d2a3e4c548f6215a3707cf2b5",
            "18734af41a4e400f8b1bed47ec461d01",
            "db21faebb946492f9340722a9cd121c0",
            "cd23355bebf14b318416337423c7a3ab",
            "0abd5239187e4600a5c4e8c1e8d89143",
            "e9548e6bf54f405a9bf5e2d21657a38f",
            "f59b2680f4f44957850c051309c2d9d8",
            "7b89c280523f47f4b1c199e0a91506d2",
            "5014b958b9434795a086139715024073",
            "5f281de36a6341ecb9ce807dac850b32",
            "6cd7d682c662450cb6592cd52cd44849",
            "8be8bdbbc46545c1b9aeaaa1d30b9936",
            "021266f79da04191a0bef52562551563",
            "55ad6e7e0d88490da1e83ac7d2f1c50c",
            "99e9f3fe5bbf4ca1bf04f8179b5f9639",
            "1c2ac707c9b9429c8a35a25acf3cdfb2",
            "12f8a66d276f4245860830fcbf2e2829",
            "bfccc2c6fd204eef85ba5040d4f84ded",
            "680536623ad341d3804358357f19e57c",
            "7d4893fb28a04523bc77123faf5b4d50",
            "96956ee4584943d6a0636372984b93b6",
            "f679f11f65bf40618cb18c30b07d2283",
            "d394d65fbecd498585682b4ff68cf3b1",
            "093a9e125dfb4c97aa2150d596b25478",
            "51e05b8042f040b0ba2a0eec44003a6b",
            "cd34d91849234be0a649365734fc4229",
            "8a70e47a879c4f2daed426a089a4c08c",
            "5e39942a799b43f789bd2a3908d0575d",
            "cd32bae0d6ed4b50b22945fb46040dd6",
            "ef3b8aa1de064ae4880efbb5094455aa",
            "b43779f2f9374ec79a6a0088ad0cc964",
            "b22b9df485c747c49e17cc03b0ffef3b",
            "71df442c608c43c0a66f914551e64f58",
            "78a39817f2254ea18a4a1182cc9ea7d8",
            "99159b087e074357b3c465e7efca7e0f",
            "6e663ce754b341339a6e839aec79edba",
            "b5d19c9ead2245d0875ffcb930c4ce22",
            "af89b9ba5ee645b09e73200a4bc95a9f",
            "ace848e9e6c346a4bf07b4e387e00469",
            "c4df3ce9b4e74f66b52a6f1152cdb5dd",
            "88fc25dddde4491c962f4ca694082d20",
            "f036148f5c8545db93cdb5404595099d",
            "11a6342aed944154953a646ccbfc1727",
            "f91d4ab8c73340b1a5a3feba1b1dfc8b",
            "9123fb8328c043639d5d8fa705f93695",
            "3418be7345d44d69863d12922492d041",
            "d2b33884bed440f6843e2d653ea8c860",
            "9d47e01acb264c5abda303693f54d2a0",
            "650cae4e0f224846b538b09ed32f1dc7",
            "495e748181c84d27a0159e5495b142ab",
            "68b57e7e498748a3a912bff79aa9e259"
          ]
        },
        "outputId": "ee39be6d-4c17-4663-c6d4-4427f4624c1c"
      },
      "outputs": [
        {
          "output_type": "stream",
          "name": "stderr",
          "text": [
            "/usr/local/lib/python3.10/dist-packages/huggingface_hub/utils/_token.py:89: UserWarning: \n",
            "The secret `HF_TOKEN` does not exist in your Colab secrets.\n",
            "To authenticate with the Hugging Face Hub, create a token in your settings tab (https://huggingface.co/settings/tokens), set it as secret in your Google Colab and restart your session.\n",
            "You will be able to reuse this secret in all of your notebooks.\n",
            "Please note that authentication is recommended but still optional to access public models or datasets.\n",
            "  warnings.warn(\n"
          ]
        },
        {
          "output_type": "display_data",
          "data": {
            "text/plain": [
              "Downloading readme:   0%|          | 0.00/2.67k [00:00<?, ?B/s]"
            ],
            "application/vnd.jupyter.widget-view+json": {
              "version_major": 2,
              "version_minor": 0,
              "model_id": "5746670e922946c8bdc7f2d6aaf1f0ee"
            }
          },
          "metadata": {}
        },
        {
          "output_type": "display_data",
          "data": {
            "text/plain": [
              "Downloading data:   0%|          | 0.00/16.5M [00:00<?, ?B/s]"
            ],
            "application/vnd.jupyter.widget-view+json": {
              "version_major": 2,
              "version_minor": 0,
              "model_id": "7b89c280523f47f4b1c199e0a91506d2"
            }
          },
          "metadata": {}
        },
        {
          "output_type": "display_data",
          "data": {
            "text/plain": [
              "Downloading data:   0%|          | 0.00/4.24M [00:00<?, ?B/s]"
            ],
            "application/vnd.jupyter.widget-view+json": {
              "version_major": 2,
              "version_minor": 0,
              "model_id": "680536623ad341d3804358357f19e57c"
            }
          },
          "metadata": {}
        },
        {
          "output_type": "display_data",
          "data": {
            "text/plain": [
              "Generating train split: 0 examples [00:00, ? examples/s]"
            ],
            "application/vnd.jupyter.widget-view+json": {
              "version_major": 2,
              "version_minor": 0,
              "model_id": "ef3b8aa1de064ae4880efbb5094455aa"
            }
          },
          "metadata": {}
        },
        {
          "output_type": "display_data",
          "data": {
            "text/plain": [
              "Generating test split: 0 examples [00:00, ? examples/s]"
            ],
            "application/vnd.jupyter.widget-view+json": {
              "version_major": 2,
              "version_minor": 0,
              "model_id": "88fc25dddde4491c962f4ca694082d20"
            }
          },
          "metadata": {}
        }
      ],
      "source": [
        "from datasets import load_dataset\n",
        "\n",
        "dataset = load_dataset('Sneider-Exe/Material_classification_2U')"
      ]
    },
    {
      "cell_type": "code",
      "execution_count": 4,
      "metadata": {
        "id": "IyRz6XOCeIhl"
      },
      "outputs": [],
      "source": [
        "from datasets import load_dataset\n",
        "from torch.utils.data import Dataset, DataLoader\n",
        "from PIL import Image\n",
        "import torchvision.transforms as transforms\n",
        "\n",
        "# Definir transformaciones\n",
        "transform = transforms.Compose([\n",
        "    transforms.ToTensor(), #transforma la imagen a tensor\n",
        "    transforms.Normalize((0.485, 0.456, 0.406), (0.229, 0.224, 0.225)) #normaliza la imagen (rgb-media/desviación)\n",
        "])\n",
        "\n",
        "transformImage = transforms.Compose([\n",
        "    transforms.Resize((512, 512)),\n",
        "    transforms.ToTensor(), #transforma la imagen a tensor\n",
        "    transforms.Normalize((0.485, 0.456, 0.406), (0.229, 0.224, 0.225)) #normaliza la imagen (rgb-media/desviación)\n",
        "])\n",
        "\n",
        "# Crear una clase de dataset personalizada de datos en hugging a datos compatibles pytorch\n",
        "class CustomDataset(Dataset):\n",
        "    def __init__(self, hf_dataset, transform=None):\n",
        "        self.dataset = hf_dataset\n",
        "        self.transform = transform\n",
        "\n",
        "    def __len__(self):\n",
        "        return len(self.dataset)\n",
        "\n",
        "    def __getitem__(self, idx):\n",
        "        item = self.dataset[idx]\n",
        "        image = item['image']\n",
        "        label = item['label']\n",
        "\n",
        "        if self.transform:\n",
        "            image = self.transform(image)\n",
        "\n",
        "        return image, label\n",
        "\n",
        "# Crear datasets para entrenamiento y prueba\n",
        "trainset = CustomDataset(dataset['train'], transform=transform)\n",
        "testset = CustomDataset(dataset['test'], transform=transform)\n",
        "\n",
        "# Crear DataLoaders en lotes\n",
        "batch_size = 64\n",
        "trainloader = DataLoader(trainset, batch_size=batch_size, shuffle=True, num_workers=2)\n",
        "testloader = DataLoader(testset, batch_size=batch_size, shuffle=False, num_workers=2)\n",
        "\n"
      ]
    },
    {
      "cell_type": "markdown",
      "metadata": {
        "id": "9TMx4gP1RaNe"
      },
      "source": [
        "## Definición del modelo (Resnet50 Modificado)\n",
        "\n"
      ]
    },
    {
      "cell_type": "code",
      "execution_count": 5,
      "metadata": {
        "id": "P2d1uHI5Rac7"
      },
      "outputs": [],
      "source": [
        "class Model(torch.nn.Module):\n",
        "  # se congelan las capas convolucionales y los pesos pre entrenados se mantienen\n",
        "    def __init__(self, outputs = 5, pretrained = True, freeze = True):\n",
        "      super().__init__()\n",
        "\n",
        "      resnet50 = torchvision.models.resnet50(pretrained = pretrained)\n",
        "      # se descargó resnet50 pre-entrenado\n",
        "      self.resnet50 = torch.nn.Sequential(*list(resnet50.children())[:-1])\n",
        "\n",
        "      if freeze:\n",
        "        for param in self.resnet50.parameters():\n",
        "          param.requires_grad=False\n",
        "      self.fc = torch.nn.Linear(2048, 512)\n",
        "      self.fc1 = torch.nn.Linear(512, 256)\n",
        "      self.fc2 = torch.nn.Linear(256, 5)\n",
        "\n",
        "\n",
        "\n",
        "    def forward(self, batch):\n",
        "      batch = self.resnet50(batch)\n",
        "      batch = batch.view(batch.shape[0], -1)\n",
        "      batch = self.fc(batch)\n",
        "      batch = self.fc1(batch)\n",
        "      batch = self.fc2(batch)\n",
        "      return batch\n"
      ]
    },
    {
      "cell_type": "markdown",
      "metadata": {
        "id": "aT1R5IGG-mXQ"
      },
      "source": [
        "## Implementación y entrenamiento"
      ]
    },
    {
      "cell_type": "markdown",
      "source": [
        "Definición de la función de entrenamiento"
      ],
      "metadata": {
        "id": "OqsB7QVfRQW_"
      }
    },
    {
      "cell_type": "code",
      "execution_count": 17,
      "metadata": {
        "id": "RlAoDt1P-lvw"
      },
      "outputs": [],
      "source": [
        "def fit(model, trainloader, testloader, epochs, lr):\n",
        "\n",
        "    model.to(device)\n",
        "    optimizer = torch.optim.Adam(model.parameters(), lr=lr)\n",
        "    criterion = torch.nn.CrossEntropyLoss()\n",
        "    scaler = torch.amp.GradScaler()\n",
        "\n",
        "    #Definición para el mejor modelo\n",
        "    best_val_accuracy = 0.0\n",
        "    best_model_path = 'best_model.pth'\n",
        "\n",
        "    wandb.login(key=\"c1f88d30aa7c210b3af22b7c2e3c81c62c623319\")\n",
        "    wandb.init(\n",
        "        project=\"Clasificación de Materiales\"\n",
        "    )\n",
        "    accuracy = Accuracy(num_classes=5, average='micro',task='multiclass').to(device)  # Micro promedio para el accuracy\n",
        "    accuracy_class = Accuracy(num_classes=5, average=None,task='multiclass').to(device)\n",
        "\n",
        "    #Criterios de convergencia\n",
        "    patience = 10\n",
        "    best_loss = float('inf')\n",
        "    epochs_without_improvement = 0\n",
        "    convergence_start_time = time.time()\n",
        "\n",
        "    for epoch in range(epochs):\n",
        "        model.train()\n",
        "        train_loss = 0.0\n",
        "\n",
        "        for x, y in trainloader:\n",
        "            x, y = x.to(device), y.to(device)\n",
        "            optimizer.zero_grad()\n",
        "\n",
        "\n",
        "            with torch.autocast(device_type=device, dtype=torch.float16):\n",
        "                y_hat = model(x)\n",
        "                loss = criterion(y_hat, y) #es un tensor escalar loss\n",
        "\n",
        "            scaler.scale(loss).backward()\n",
        "            scaler.step(optimizer)\n",
        "            scaler.update()\n",
        "\n",
        "            train_loss +=loss.item()*x.size(0)#.item convierte el tensor en un num estandar\n",
        "            #size(0) es el tamaño del primer eje de x -> # de muestras - para calcular el loss por lote\n",
        "\n",
        "        # Calcular las métricas\n",
        "        accT = accuracy(y_hat, y)\n",
        "        accTC= accuracy_class(y_hat, y)\n",
        "\n",
        "        wandb.log({\"epoch\": epoch, \"accuracyTraining\": accT, \"lossTraining\": train_loss})\n",
        "\n",
        "        start_time_testing = time.time()\n",
        "        model.eval()\n",
        "        val_loss = 0.0\n",
        "\n",
        "        for x, y in testloader:\n",
        "            x, y = x.to(device), y.to(device)\n",
        "            y_hat = model(x)\n",
        "            loss = criterion(y_hat, y)\n",
        "            val_loss+=loss.item()*x.size(0)\n",
        "\n",
        "        end_time_testing = time.time()\n",
        "        total_time = end_time_testing - start_time_testing\n",
        "        iterations_per_second_testing = epochs / total_time #Cálculo de iteraciones por segundo para el testing loop\n",
        "\n",
        "        if val_loss < best_loss:\n",
        "          best_loss = val_loss\n",
        "          epochs_without_improvement = 0\n",
        "        else:\n",
        "            epochs_without_improvement += 1\n",
        "\n",
        "        if epochs_without_improvement >= patience:\n",
        "            print(\"Convergence reached.\")\n",
        "            break\n",
        "\n",
        "        accV = accuracy(y_hat, y)\n",
        "        accVC = accuracy_class(y_hat, y)\n",
        "\n",
        "        if accV > best_val_accuracy:\n",
        "          best_val_accuracy = accV\n",
        "          torch.save(model.state_dict(), best_model_path)\n",
        "          print(f'Improved model saved on epoch {epoch+1} with accuracy: {accV:.4f}')\n",
        "\n",
        "        wandb.log({\"epoch\": epoch, \"accuracyValidation\": accV, \"lossValidation\": val_loss})\n",
        "\n",
        "        print(f\"Epoch {epoch+1}/{epochs} training_loss {train_loss:.5f} val_loss {val_loss:.5f} \"\n",
        "              f\"training_accuracy {accT:.5f} val_accuracy {accV:.5f} brick_T_accuracy {accTC[0].item():.5f} metal_T_accuracy {accTC[1].item():.5f} \"\n",
        "              f\"paper_T_accuracy {accTC[2].item():.5f} plastic_T_accuracy {accTC[3].item():.5f} wood_T_accuracy {accTC[4].item():.5f} \"\n",
        "              f\"brick_V_accuracy {accVC[0].item():.5f} metal_V_accuracy {accVC[1].item():.5f} \"\n",
        "              f\"paper_V_accuracy {accVC[2].item():.5f} plastic_V_accuracy {accVC[3].item():.5f} wood_V_accuracy {accVC[4].item():.5f} \")\n",
        "        print(f\"Iterations per second for testing: {iterations_per_second_testing:.2f} \")\n",
        "\n",
        "    wandb.finish()\n",
        "    convergence_end_time = time.time()\n",
        "    convergence_time = convergence_end_time - convergence_start_time\n",
        "    print(f\"Convergence time: {convergence_time:.2f} seconds\")"
      ]
    },
    {
      "cell_type": "markdown",
      "source": [
        "Arquitectura del modelo e instanciamiento"
      ],
      "metadata": {
        "id": "rg6eaSidQyC4"
      }
    },
    {
      "cell_type": "code",
      "execution_count": 18,
      "metadata": {
        "colab": {
          "base_uri": "https://localhost:8080/"
        },
        "id": "6Lymw2gvisi8",
        "outputId": "45fdb17e-16dd-470c-a855-6012e7cdeb89"
      },
      "outputs": [
        {
          "output_type": "stream",
          "name": "stderr",
          "text": [
            "/usr/local/lib/python3.10/dist-packages/torchvision/models/_utils.py:208: UserWarning: The parameter 'pretrained' is deprecated since 0.13 and may be removed in the future, please use 'weights' instead.\n",
            "  warnings.warn(\n",
            "/usr/local/lib/python3.10/dist-packages/torchvision/models/_utils.py:223: UserWarning: Arguments other than a weight enum or `None` for 'weights' are deprecated since 0.13 and may be removed in the future. The current behavior is equivalent to passing `weights=ResNet50_Weights.IMAGENET1K_V1`. You can also use `weights=ResNet50_Weights.DEFAULT` to get the most up-to-date weights.\n",
            "  warnings.warn(msg)\n"
          ]
        },
        {
          "output_type": "execute_result",
          "data": {
            "text/plain": [
              "===============================================================================================\n",
              "Layer (type:depth-idx)                        Output Shape              Param #\n",
              "===============================================================================================\n",
              "Model                                         [1, 5]                    --\n",
              "├─Sequential: 1-1                             [1, 2048, 1, 1]           --\n",
              "│    └─Conv2d: 2-1                            [1, 64, 256, 256]         (9,408)\n",
              "│    └─BatchNorm2d: 2-2                       [1, 64, 256, 256]         (128)\n",
              "│    └─ReLU: 2-3                              [1, 64, 256, 256]         --\n",
              "│    └─MaxPool2d: 2-4                         [1, 64, 128, 128]         --\n",
              "│    └─Sequential: 2-5                        [1, 256, 128, 128]        --\n",
              "│    │    └─Bottleneck: 3-1                   [1, 256, 128, 128]        (75,008)\n",
              "│    │    └─Bottleneck: 3-2                   [1, 256, 128, 128]        (70,400)\n",
              "│    │    └─Bottleneck: 3-3                   [1, 256, 128, 128]        (70,400)\n",
              "│    └─Sequential: 2-6                        [1, 512, 64, 64]          --\n",
              "│    │    └─Bottleneck: 3-4                   [1, 512, 64, 64]          (379,392)\n",
              "│    │    └─Bottleneck: 3-5                   [1, 512, 64, 64]          (280,064)\n",
              "│    │    └─Bottleneck: 3-6                   [1, 512, 64, 64]          (280,064)\n",
              "│    │    └─Bottleneck: 3-7                   [1, 512, 64, 64]          (280,064)\n",
              "│    └─Sequential: 2-7                        [1, 1024, 32, 32]         --\n",
              "│    │    └─Bottleneck: 3-8                   [1, 1024, 32, 32]         (1,512,448)\n",
              "│    │    └─Bottleneck: 3-9                   [1, 1024, 32, 32]         (1,117,184)\n",
              "│    │    └─Bottleneck: 3-10                  [1, 1024, 32, 32]         (1,117,184)\n",
              "│    │    └─Bottleneck: 3-11                  [1, 1024, 32, 32]         (1,117,184)\n",
              "│    │    └─Bottleneck: 3-12                  [1, 1024, 32, 32]         (1,117,184)\n",
              "│    │    └─Bottleneck: 3-13                  [1, 1024, 32, 32]         (1,117,184)\n",
              "│    └─Sequential: 2-8                        [1, 2048, 16, 16]         --\n",
              "│    │    └─Bottleneck: 3-14                  [1, 2048, 16, 16]         (6,039,552)\n",
              "│    │    └─Bottleneck: 3-15                  [1, 2048, 16, 16]         (4,462,592)\n",
              "│    │    └─Bottleneck: 3-16                  [1, 2048, 16, 16]         (4,462,592)\n",
              "│    └─AdaptiveAvgPool2d: 2-9                 [1, 2048, 1, 1]           --\n",
              "├─Linear: 1-2                                 [1, 512]                  1,049,088\n",
              "├─Linear: 1-3                                 [1, 256]                  131,328\n",
              "├─Linear: 1-4                                 [1, 5]                    1,285\n",
              "===============================================================================================\n",
              "Total params: 24,689,733\n",
              "Trainable params: 1,181,701\n",
              "Non-trainable params: 23,508,032\n",
              "Total mult-adds (G): 21.35\n",
              "===============================================================================================\n",
              "Input size (MB): 3.15\n",
              "Forward/backward pass size (MB): 929.04\n",
              "Params size (MB): 98.76\n",
              "Estimated Total Size (MB): 1030.95\n",
              "==============================================================================================="
            ]
          },
          "metadata": {},
          "execution_count": 18
        }
      ],
      "source": [
        "resnet50mod = Model()\n",
        "summary(resnet50mod, input_size=(1, 3, 512, 512))"
      ]
    },
    {
      "cell_type": "markdown",
      "source": [
        "Entrenamiento y validación del modelo"
      ],
      "metadata": {
        "id": "6vH4eklpQuiI"
      }
    },
    {
      "cell_type": "code",
      "execution_count": 19,
      "metadata": {
        "colab": {
          "base_uri": "https://localhost:8080/",
          "height": 1000,
          "referenced_widgets": [
            "04a11608b0514571bfed2c8648945a71",
            "843d5cb46e0a403c9be5db6217b0fb1a",
            "30ca204dc4b34330adad422ea5fd7991",
            "7c2b0065907943058cb665047dbd33fe",
            "87b27e3859764a1cb994dd5389eb3df2",
            "b450d8fbe7dc4ec9b455a23ca630a963",
            "175799ea5f424db7a0155092c6fd74d1",
            "331ec9cb7d8345da9d0b0f1f602c221f",
            "7601a2bfd3314174af590a8c80fdec43",
            "3c23586d96594b86a9231a34052688ee",
            "145c12f7245e4275946c23f0f8701583",
            "503a7aa8ea374d60872fc796a9caf6da",
            "5b7b237c2026442886526d10e2876954",
            "2682678fed18438bb42ed636d7ddf7c0",
            "426ad18ccd29473784ce1d45379a2984",
            "bc772a7fb51943cc8ce281362530390a"
          ]
        },
        "id": "HO6rrKZ49zB5",
        "outputId": "49f12475-613d-4f36-b05a-d4645d5bb188"
      },
      "outputs": [
        {
          "output_type": "stream",
          "name": "stderr",
          "text": [
            "\u001b[34m\u001b[1mwandb\u001b[0m: \u001b[33mWARNING\u001b[0m If you're specifying your api key in code, ensure this code is not shared publicly.\n",
            "\u001b[34m\u001b[1mwandb\u001b[0m: \u001b[33mWARNING\u001b[0m Consider setting the WANDB_API_KEY environment variable, or running `wandb login` from the command line.\n",
            "\u001b[34m\u001b[1mwandb\u001b[0m: Appending key for api.wandb.ai to your netrc file: /root/.netrc\n"
          ]
        },
        {
          "output_type": "display_data",
          "data": {
            "text/plain": [
              "VBox(children=(Label(value='Waiting for wandb.init()...\\r'), FloatProgress(value=0.011112743833333778, max=1.0…"
            ],
            "application/vnd.jupyter.widget-view+json": {
              "version_major": 2,
              "version_minor": 0,
              "model_id": "04a11608b0514571bfed2c8648945a71"
            }
          },
          "metadata": {}
        },
        {
          "output_type": "display_data",
          "data": {
            "text/plain": [
              "<IPython.core.display.HTML object>"
            ],
            "text/html": [
              "Tracking run with wandb version 0.17.8"
            ]
          },
          "metadata": {}
        },
        {
          "output_type": "display_data",
          "data": {
            "text/plain": [
              "<IPython.core.display.HTML object>"
            ],
            "text/html": [
              "Run data is saved locally in <code>/content/wandb/run-20240901_201605-x85r2xm0</code>"
            ]
          },
          "metadata": {}
        },
        {
          "output_type": "display_data",
          "data": {
            "text/plain": [
              "<IPython.core.display.HTML object>"
            ],
            "text/html": [
              "Syncing run <strong><a href='https://wandb.ai/dana2220081-universidad-industrial-de-santander/Clasificaci%C3%B3n%20de%20Materiales/runs/x85r2xm0' target=\"_blank\">fine-fog-154</a></strong> to <a href='https://wandb.ai/dana2220081-universidad-industrial-de-santander/Clasificaci%C3%B3n%20de%20Materiales' target=\"_blank\">Weights & Biases</a> (<a href='https://wandb.me/run' target=\"_blank\">docs</a>)<br/>"
            ]
          },
          "metadata": {}
        },
        {
          "output_type": "display_data",
          "data": {
            "text/plain": [
              "<IPython.core.display.HTML object>"
            ],
            "text/html": [
              " View project at <a href='https://wandb.ai/dana2220081-universidad-industrial-de-santander/Clasificaci%C3%B3n%20de%20Materiales' target=\"_blank\">https://wandb.ai/dana2220081-universidad-industrial-de-santander/Clasificaci%C3%B3n%20de%20Materiales</a>"
            ]
          },
          "metadata": {}
        },
        {
          "output_type": "display_data",
          "data": {
            "text/plain": [
              "<IPython.core.display.HTML object>"
            ],
            "text/html": [
              " View run at <a href='https://wandb.ai/dana2220081-universidad-industrial-de-santander/Clasificaci%C3%B3n%20de%20Materiales/runs/x85r2xm0' target=\"_blank\">https://wandb.ai/dana2220081-universidad-industrial-de-santander/Clasificaci%C3%B3n%20de%20Materiales/runs/x85r2xm0</a>"
            ]
          },
          "metadata": {}
        },
        {
          "output_type": "stream",
          "name": "stdout",
          "text": [
            "Improved model saved on epoch 1 with accuracy: 0.2667\n",
            "Epoch 1/30 training_loss 276.94327 val_loss 78.02407 training_accuracy 0.44643 val_accuracy 0.26667 brick_T_accuracy 1.00000 metal_T_accuracy 0.00000 paper_T_accuracy 0.00000 plastic_T_accuracy 0.66667 wood_T_accuracy 0.87500 brick_V_accuracy 1.00000 metal_V_accuracy 0.00000 paper_V_accuracy 0.00000 plastic_V_accuracy 0.33333 wood_V_accuracy 0.00000 \n",
            "Iterations per second for testing: 86.71 \n",
            "Improved model saved on epoch 2 with accuracy: 0.3333\n",
            "Epoch 2/30 training_loss 343.86388 val_loss 228.96881 training_accuracy 0.44643 val_accuracy 0.33333 brick_T_accuracy 0.00000 metal_T_accuracy 0.00000 paper_T_accuracy 1.00000 plastic_T_accuracy 1.00000 wood_T_accuracy 0.25000 brick_V_accuracy 0.00000 metal_V_accuracy 1.00000 paper_V_accuracy 0.66667 plastic_V_accuracy 0.00000 wood_V_accuracy 0.00000 \n",
            "Iterations per second for testing: 77.96 \n",
            "Epoch 3/30 training_loss 933.53374 val_loss 233.15044 training_accuracy 0.41071 val_accuracy 0.33333 brick_T_accuracy 0.00000 metal_T_accuracy 1.00000 paper_T_accuracy 0.66667 plastic_T_accuracy 0.00000 wood_T_accuracy 0.50000 brick_V_accuracy 0.00000 metal_V_accuracy 1.00000 paper_V_accuracy 0.66667 plastic_V_accuracy 0.00000 wood_V_accuracy 0.00000 \n",
            "Iterations per second for testing: 83.69 \n",
            "Epoch 4/30 training_loss 896.36427 val_loss 402.24652 training_accuracy 0.50000 val_accuracy 0.20000 brick_T_accuracy 0.18182 metal_T_accuracy 0.00000 paper_T_accuracy 1.00000 plastic_T_accuracy 0.00000 wood_T_accuracy 1.00000 brick_V_accuracy 1.00000 metal_V_accuracy 0.00000 paper_V_accuracy 0.00000 plastic_V_accuracy 0.00000 wood_V_accuracy 0.00000 \n",
            "Iterations per second for testing: 82.11 \n",
            "Improved model saved on epoch 5 with accuracy: 0.5333\n",
            "Epoch 5/30 training_loss 898.25460 val_loss 67.88235 training_accuracy 0.69643 val_accuracy 0.53333 brick_T_accuracy 1.00000 metal_T_accuracy 0.00000 paper_T_accuracy 1.00000 plastic_T_accuracy 0.60000 wood_T_accuracy 0.90909 brick_V_accuracy 0.00000 metal_V_accuracy 0.00000 paper_V_accuracy 0.66667 plastic_V_accuracy 1.00000 wood_V_accuracy 1.00000 \n",
            "Iterations per second for testing: 83.66 \n",
            "Epoch 6/30 training_loss 286.55592 val_loss 46.24769 training_accuracy 0.46429 val_accuracy 0.50000 brick_T_accuracy 0.00000 metal_T_accuracy 0.27273 paper_T_accuracy 0.53846 plastic_T_accuracy 0.58333 wood_T_accuracy 1.00000 brick_V_accuracy 0.00000 metal_V_accuracy 1.00000 paper_V_accuracy 0.83333 plastic_V_accuracy 0.33333 wood_V_accuracy 0.33333 \n",
            "Iterations per second for testing: 62.39 \n",
            "Improved model saved on epoch 7 with accuracy: 0.5667\n",
            "Epoch 7/30 training_loss 98.40041 val_loss 85.14931 training_accuracy 0.75000 val_accuracy 0.56667 brick_T_accuracy 0.73333 metal_T_accuracy 1.00000 paper_T_accuracy 1.00000 plastic_T_accuracy 0.30769 wood_T_accuracy 0.90000 brick_V_accuracy 1.00000 metal_V_accuracy 0.33333 paper_V_accuracy 1.00000 plastic_V_accuracy 0.50000 wood_V_accuracy 0.00000 \n",
            "Iterations per second for testing: 54.80 \n",
            "Improved model saved on epoch 8 with accuracy: 0.7000\n",
            "Epoch 8/30 training_loss 164.24465 val_loss 22.02996 training_accuracy 0.71429 val_accuracy 0.70000 brick_T_accuracy 1.00000 metal_T_accuracy 0.13333 paper_T_accuracy 1.00000 plastic_T_accuracy 1.00000 wood_T_accuracy 0.57143 brick_V_accuracy 1.00000 metal_V_accuracy 0.33333 paper_V_accuracy 0.83333 plastic_V_accuracy 1.00000 wood_V_accuracy 0.33333 \n",
            "Iterations per second for testing: 78.51 \n",
            "Improved model saved on epoch 9 with accuracy: 0.7333\n",
            "Epoch 9/30 training_loss 30.68428 val_loss 39.39633 training_accuracy 0.96429 val_accuracy 0.73333 brick_T_accuracy 1.00000 metal_T_accuracy 0.90000 paper_T_accuracy 0.88889 plastic_T_accuracy 1.00000 wood_T_accuracy 1.00000 brick_V_accuracy 1.00000 metal_V_accuracy 0.50000 paper_V_accuracy 0.16667 plastic_V_accuracy 1.00000 wood_V_accuracy 1.00000 \n",
            "Iterations per second for testing: 75.09 \n",
            "Improved model saved on epoch 10 with accuracy: 0.9333\n",
            "Epoch 10/30 training_loss 130.23331 val_loss 19.55171 training_accuracy 0.92857 val_accuracy 0.93333 brick_T_accuracy 0.88889 metal_T_accuracy 0.80000 paper_T_accuracy 1.00000 plastic_T_accuracy 1.00000 wood_T_accuracy 1.00000 brick_V_accuracy 1.00000 metal_V_accuracy 1.00000 paper_V_accuracy 0.66667 plastic_V_accuracy 1.00000 wood_V_accuracy 1.00000 \n",
            "Iterations per second for testing: 80.85 \n",
            "Improved model saved on epoch 11 with accuracy: 0.9667\n",
            "Epoch 11/30 training_loss 15.72426 val_loss 9.04826 training_accuracy 0.91071 val_accuracy 0.96667 brick_T_accuracy 0.83333 metal_T_accuracy 0.83333 paper_T_accuracy 1.00000 plastic_T_accuracy 1.00000 wood_T_accuracy 1.00000 brick_V_accuracy 1.00000 metal_V_accuracy 1.00000 paper_V_accuracy 0.83333 plastic_V_accuracy 1.00000 wood_V_accuracy 1.00000 \n",
            "Iterations per second for testing: 47.84 \n",
            "Improved model saved on epoch 12 with accuracy: 1.0000\n",
            "Epoch 12/30 training_loss 11.73429 val_loss 3.89637 training_accuracy 0.94643 val_accuracy 1.00000 brick_T_accuracy 1.00000 metal_T_accuracy 0.83333 paper_T_accuracy 1.00000 plastic_T_accuracy 0.92308 wood_T_accuracy 1.00000 brick_V_accuracy 1.00000 metal_V_accuracy 1.00000 paper_V_accuracy 1.00000 plastic_V_accuracy 1.00000 wood_V_accuracy 1.00000 \n",
            "Iterations per second for testing: 87.61 \n",
            "Epoch 13/30 training_loss 8.31500 val_loss 4.18619 training_accuracy 0.96429 val_accuracy 0.93333 brick_T_accuracy 1.00000 metal_T_accuracy 0.85714 paper_T_accuracy 1.00000 plastic_T_accuracy 1.00000 wood_T_accuracy 1.00000 brick_V_accuracy 1.00000 metal_V_accuracy 0.66667 paper_V_accuracy 1.00000 plastic_V_accuracy 1.00000 wood_V_accuracy 1.00000 \n",
            "Iterations per second for testing: 87.82 \n",
            "Epoch 14/30 training_loss 11.76891 val_loss 4.44101 training_accuracy 0.96429 val_accuracy 0.96667 brick_T_accuracy 1.00000 metal_T_accuracy 0.88889 paper_T_accuracy 1.00000 plastic_T_accuracy 0.92308 wood_T_accuracy 1.00000 brick_V_accuracy 1.00000 metal_V_accuracy 1.00000 paper_V_accuracy 1.00000 plastic_V_accuracy 1.00000 wood_V_accuracy 0.83333 \n",
            "Iterations per second for testing: 72.43 \n",
            "Epoch 15/30 training_loss 6.80543 val_loss 7.35870 training_accuracy 0.98214 val_accuracy 0.90000 brick_T_accuracy 1.00000 metal_T_accuracy 1.00000 paper_T_accuracy 1.00000 plastic_T_accuracy 0.93333 wood_T_accuracy 1.00000 brick_V_accuracy 1.00000 metal_V_accuracy 1.00000 paper_V_accuracy 1.00000 plastic_V_accuracy 1.00000 wood_V_accuracy 0.50000 \n",
            "Iterations per second for testing: 66.04 \n",
            "Epoch 16/30 training_loss 7.75465 val_loss 9.98664 training_accuracy 0.98214 val_accuracy 0.90000 brick_T_accuracy 1.00000 metal_T_accuracy 1.00000 paper_T_accuracy 1.00000 plastic_T_accuracy 0.91667 wood_T_accuracy 1.00000 brick_V_accuracy 1.00000 metal_V_accuracy 1.00000 paper_V_accuracy 1.00000 plastic_V_accuracy 1.00000 wood_V_accuracy 0.50000 \n",
            "Iterations per second for testing: 69.94 \n",
            "Epoch 17/30 training_loss 6.74916 val_loss 3.19874 training_accuracy 1.00000 val_accuracy 0.96667 brick_T_accuracy 1.00000 metal_T_accuracy 1.00000 paper_T_accuracy 1.00000 plastic_T_accuracy 1.00000 wood_T_accuracy 1.00000 brick_V_accuracy 1.00000 metal_V_accuracy 1.00000 paper_V_accuracy 1.00000 plastic_V_accuracy 1.00000 wood_V_accuracy 0.83333 \n",
            "Iterations per second for testing: 87.44 \n",
            "Epoch 18/30 training_loss 0.79222 val_loss 1.91474 training_accuracy 1.00000 val_accuracy 1.00000 brick_T_accuracy 1.00000 metal_T_accuracy 1.00000 paper_T_accuracy 1.00000 plastic_T_accuracy 1.00000 wood_T_accuracy 1.00000 brick_V_accuracy 1.00000 metal_V_accuracy 1.00000 paper_V_accuracy 1.00000 plastic_V_accuracy 1.00000 wood_V_accuracy 1.00000 \n",
            "Iterations per second for testing: 86.67 \n",
            "Epoch 19/30 training_loss 2.18689 val_loss 4.93382 training_accuracy 1.00000 val_accuracy 0.93333 brick_T_accuracy 1.00000 metal_T_accuracy 1.00000 paper_T_accuracy 1.00000 plastic_T_accuracy 1.00000 wood_T_accuracy 1.00000 brick_V_accuracy 1.00000 metal_V_accuracy 0.66667 paper_V_accuracy 1.00000 plastic_V_accuracy 1.00000 wood_V_accuracy 1.00000 \n",
            "Iterations per second for testing: 85.15 \n",
            "Epoch 20/30 training_loss 1.07543 val_loss 6.49841 training_accuracy 1.00000 val_accuracy 0.90000 brick_T_accuracy 1.00000 metal_T_accuracy 1.00000 paper_T_accuracy 1.00000 plastic_T_accuracy 1.00000 wood_T_accuracy 1.00000 brick_V_accuracy 1.00000 metal_V_accuracy 0.50000 paper_V_accuracy 1.00000 plastic_V_accuracy 1.00000 wood_V_accuracy 1.00000 \n",
            "Iterations per second for testing: 85.60 \n",
            "Epoch 21/30 training_loss 1.99168 val_loss 3.74878 training_accuracy 1.00000 val_accuracy 0.96667 brick_T_accuracy 1.00000 metal_T_accuracy 1.00000 paper_T_accuracy 1.00000 plastic_T_accuracy 1.00000 wood_T_accuracy 1.00000 brick_V_accuracy 1.00000 metal_V_accuracy 0.83333 paper_V_accuracy 1.00000 plastic_V_accuracy 1.00000 wood_V_accuracy 1.00000 \n",
            "Iterations per second for testing: 87.73 \n",
            "Epoch 22/30 training_loss 0.33464 val_loss 2.91959 training_accuracy 1.00000 val_accuracy 0.96667 brick_T_accuracy 1.00000 metal_T_accuracy 1.00000 paper_T_accuracy 1.00000 plastic_T_accuracy 1.00000 wood_T_accuracy 1.00000 brick_V_accuracy 1.00000 metal_V_accuracy 1.00000 paper_V_accuracy 0.83333 plastic_V_accuracy 1.00000 wood_V_accuracy 1.00000 \n",
            "Iterations per second for testing: 85.83 \n",
            "Epoch 23/30 training_loss 0.17369 val_loss 4.02506 training_accuracy 1.00000 val_accuracy 0.93333 brick_T_accuracy 1.00000 metal_T_accuracy 1.00000 paper_T_accuracy 1.00000 plastic_T_accuracy 1.00000 wood_T_accuracy 1.00000 brick_V_accuracy 1.00000 metal_V_accuracy 1.00000 paper_V_accuracy 0.83333 plastic_V_accuracy 1.00000 wood_V_accuracy 0.83333 \n",
            "Iterations per second for testing: 84.28 \n",
            "Epoch 24/30 training_loss 0.26547 val_loss 6.33802 training_accuracy 1.00000 val_accuracy 0.93333 brick_T_accuracy 1.00000 metal_T_accuracy 1.00000 paper_T_accuracy 1.00000 plastic_T_accuracy 1.00000 wood_T_accuracy 1.00000 brick_V_accuracy 1.00000 metal_V_accuracy 1.00000 paper_V_accuracy 0.83333 plastic_V_accuracy 1.00000 wood_V_accuracy 0.83333 \n",
            "Iterations per second for testing: 85.71 \n",
            "Epoch 25/30 training_loss 0.18076 val_loss 9.10842 training_accuracy 1.00000 val_accuracy 0.90000 brick_T_accuracy 1.00000 metal_T_accuracy 1.00000 paper_T_accuracy 1.00000 plastic_T_accuracy 1.00000 wood_T_accuracy 1.00000 brick_V_accuracy 1.00000 metal_V_accuracy 1.00000 paper_V_accuracy 0.83333 plastic_V_accuracy 1.00000 wood_V_accuracy 0.66667 \n",
            "Iterations per second for testing: 82.43 \n",
            "Epoch 26/30 training_loss 0.34053 val_loss 11.12519 training_accuracy 1.00000 val_accuracy 0.90000 brick_T_accuracy 1.00000 metal_T_accuracy 1.00000 paper_T_accuracy 1.00000 plastic_T_accuracy 1.00000 wood_T_accuracy 1.00000 brick_V_accuracy 1.00000 metal_V_accuracy 1.00000 paper_V_accuracy 0.83333 plastic_V_accuracy 1.00000 wood_V_accuracy 0.66667 \n",
            "Iterations per second for testing: 64.58 \n",
            "Epoch 27/30 training_loss 0.31946 val_loss 11.16950 training_accuracy 1.00000 val_accuracy 0.90000 brick_T_accuracy 1.00000 metal_T_accuracy 1.00000 paper_T_accuracy 1.00000 plastic_T_accuracy 1.00000 wood_T_accuracy 1.00000 brick_V_accuracy 1.00000 metal_V_accuracy 1.00000 paper_V_accuracy 0.83333 plastic_V_accuracy 1.00000 wood_V_accuracy 0.66667 \n",
            "Iterations per second for testing: 67.47 \n",
            "Convergencia alcanzada.\n"
          ]
        },
        {
          "output_type": "display_data",
          "data": {
            "text/plain": [
              "VBox(children=(Label(value='0.022 MB of 0.022 MB uploaded\\r'), FloatProgress(value=1.0, max=1.0)))"
            ],
            "application/vnd.jupyter.widget-view+json": {
              "version_major": 2,
              "version_minor": 0,
              "model_id": "7601a2bfd3314174af590a8c80fdec43"
            }
          },
          "metadata": {}
        },
        {
          "output_type": "display_data",
          "data": {
            "text/plain": [
              "<IPython.core.display.HTML object>"
            ],
            "text/html": [
              "<style>\n",
              "    table.wandb td:nth-child(1) { padding: 0 10px; text-align: left ; width: auto;} td:nth-child(2) {text-align: left ; width: 100%}\n",
              "    .wandb-row { display: flex; flex-direction: row; flex-wrap: wrap; justify-content: flex-start; width: 100% }\n",
              "    .wandb-col { display: flex; flex-direction: column; flex-basis: 100%; flex: 1; padding: 10px; }\n",
              "    </style>\n",
              "<div class=\"wandb-row\"><div class=\"wandb-col\"><h3>Run history:</h3><br/><table class=\"wandb\"><tr><td>accuracyTraining</td><td>▁▁▁▂▄▂▅▅█▇▇▇████████████████</td></tr><tr><td>accuracyValidation</td><td>▂▂▂▁▄▄▄▅▆▇██▇█▇▇██▇▇██▇▇▇▇▇</td></tr><tr><td>epoch</td><td>▁▁▁▂▂▂▂▂▂▃▃▃▃▃▃▄▄▄▄▄▄▅▅▅▅▅▆▆▆▆▆▆▇▇▇▇▇▇██</td></tr><tr><td>lossTraining</td><td>▃▄███▃▂▂▁▂▁▁▁▁▁▁▁▁▁▁▁▁▁▁▁▁▁▁</td></tr><tr><td>lossValidation</td><td>▂▅▅█▂▂▂▁▂▁▁▁▁▁▁▁▁▁▁▁▁▁▁▁▁▁▁</td></tr></table><br/></div><div class=\"wandb-col\"><h3>Run summary:</h3><br/><table class=\"wandb\"><tr><td>accuracyTraining</td><td>1.0</td></tr><tr><td>accuracyValidation</td><td>0.9</td></tr><tr><td>epoch</td><td>27</td></tr><tr><td>lossTraining</td><td>0.19514</td></tr><tr><td>lossValidation</td><td>11.1695</td></tr></table><br/></div></div>"
            ]
          },
          "metadata": {}
        },
        {
          "output_type": "display_data",
          "data": {
            "text/plain": [
              "<IPython.core.display.HTML object>"
            ],
            "text/html": [
              " View run <strong style=\"color:#cdcd00\">fine-fog-154</strong> at: <a href='https://wandb.ai/dana2220081-universidad-industrial-de-santander/Clasificaci%C3%B3n%20de%20Materiales/runs/x85r2xm0' target=\"_blank\">https://wandb.ai/dana2220081-universidad-industrial-de-santander/Clasificaci%C3%B3n%20de%20Materiales/runs/x85r2xm0</a><br/> View project at: <a href='https://wandb.ai/dana2220081-universidad-industrial-de-santander/Clasificaci%C3%B3n%20de%20Materiales' target=\"_blank\">https://wandb.ai/dana2220081-universidad-industrial-de-santander/Clasificaci%C3%B3n%20de%20Materiales</a><br/>Synced 5 W&B file(s), 0 media file(s), 0 artifact file(s) and 0 other file(s)"
            ]
          },
          "metadata": {}
        },
        {
          "output_type": "display_data",
          "data": {
            "text/plain": [
              "<IPython.core.display.HTML object>"
            ],
            "text/html": [
              "Find logs at: <code>./wandb/run-20240901_201605-x85r2xm0/logs</code>"
            ]
          },
          "metadata": {}
        },
        {
          "output_type": "display_data",
          "data": {
            "text/plain": [
              "<IPython.core.display.HTML object>"
            ],
            "text/html": [
              "The new W&B backend becomes opt-out in version 0.18.0; try it out with `wandb.require(\"core\")`! See https://wandb.me/wandb-core for more information."
            ]
          },
          "metadata": {}
        },
        {
          "output_type": "stream",
          "name": "stdout",
          "text": [
            "Convergence time: 41.23 seconds\n"
          ]
        }
      ],
      "source": [
        "fit(model=resnet50mod, trainloader=trainloader, testloader=testloader, epochs=30, lr=3e-3)"
      ]
    },
    {
      "cell_type": "markdown",
      "source": [
        "Comprobación del mejor modelo guardado"
      ],
      "metadata": {
        "id": "Dmz_3FGDQp-Y"
      }
    },
    {
      "cell_type": "code",
      "source": [
        "best_model = Model()\n",
        "best_model.to(device)\n",
        "best_model_path = 'best_model.pth'\n",
        "criterion = torch.nn.CrossEntropyLoss()\n",
        "\n",
        "best_model.load_state_dict(torch.load('best_model.pth', weights_only=True))\n",
        "\n",
        "accuracy = Accuracy(num_classes=5, average='micro',task='multiclass').to(device)  # Micro promedio para el accuracy\n",
        "\n",
        "best_model.eval()\n",
        "val_loss = 0.0\n",
        "for x, y in testloader:\n",
        "          x, y = x.to(device), y.to(device)\n",
        "          y_hat = best_model(x)\n",
        "\n",
        "          loss = criterion(y_hat, y)\n",
        "          val_loss+=loss.item()*x.size(0)\n",
        "accV = accuracy(y_hat, y)\n",
        "\n",
        "print(f\"val_accuracy {accV:.5f}\")"
      ],
      "metadata": {
        "id": "UIi36rVbk9ZL",
        "colab": {
          "base_uri": "https://localhost:8080/"
        },
        "outputId": "79054d05-804d-4abd-ee29-278f9f2c6fe5"
      },
      "execution_count": 22,
      "outputs": [
        {
          "output_type": "stream",
          "name": "stdout",
          "text": [
            "val_accuracy 1.00000\n"
          ]
        }
      ]
    },
    {
      "cell_type": "markdown",
      "source": [
        "## Conexión del modelo para el deployment web"
      ],
      "metadata": {
        "id": "XhmPNm4eQk6y"
      }
    },
    {
      "cell_type": "code",
      "source": [
        "model = best_model\n",
        "model.cpu()\n",
        "input = torch.randn(1, 3, 512, 512)\n",
        "\n",
        "input_names = ['actual_input_1']+[\"learned_%d\"% i for i in range(16)]\n",
        "output_names = ['output_1']\n",
        "\n",
        "torch.onnx.export(model, input, \"model.onnx\", verbose=True, input_names=input_names, output_names=output_names)\n",
        "\n",
        "ort_session = onnxruntime.InferenceSession(\"model.onnx\", providers=['CPUExecutionProvider'])\n",
        "\n",
        "def to_numpy(tensor):\n",
        "    return tensor.detach().cpu().numpy() if tensor.requires_grad else tensor.cpu().numpy()\n",
        "\n",
        "onnxruntime_input = {ort_session.get_inputs()[0].name: to_numpy(input)}\n",
        "\n",
        "onnxruntime_outputs = ort_session.run(None, onnxruntime_input)\n",
        "\n",
        "print(\"Resultados de la inferencia:\", onnxruntime_outputs[0].shape[0])\n",
        "\n",
        "model.eval()  # Set the model to evaluation mode\n",
        "with torch.no_grad():  # Disable gradient calculations\n",
        "    torch_outputs = model(input)\n",
        "torch_outputs_np = torch_outputs.detach().numpy()\n",
        "\n",
        "assert len(torch_outputs_np) == len(onnxruntime_outputs[0])\n",
        "\n",
        "for torch_output, onnxruntime_output in zip(torch_outputs_np, onnxruntime_outputs):\n",
        "    torch.testing.assert_close(torch_output, onnxruntime_output[0])\n",
        "\n",
        "print(\"PyTorch and ONNX Runtime output matched!\")\n",
        "print(f\"Output length: {len(onnxruntime_outputs)}\")\n",
        "print(f\"Sample output: {onnxruntime_outputs}\")"
      ],
      "metadata": {
        "colab": {
          "base_uri": "https://localhost:8080/"
        },
        "id": "cdiOTQCM4o4j",
        "outputId": "a055d706-5a0d-40dd-ccd1-ca72a18a9882"
      },
      "execution_count": 24,
      "outputs": [
        {
          "output_type": "stream",
          "name": "stdout",
          "text": [
            "Resultados de la inferencia: 1\n",
            "PyTorch and ONNX Runtime output matched!\n",
            "Output length: 1\n",
            "Sample output: [array([[ 1.8588467, -3.3509178,  1.3225751, -3.8026237,  8.652672 ]],\n",
            "      dtype=float32)]\n"
          ]
        }
      ]
    },
    {
      "cell_type": "code",
      "source": [
        "torch.save(best_model.state_dict(), \"model.bin\")"
      ],
      "metadata": {
        "id": "sNQZdAjCfAOW"
      },
      "execution_count": 25,
      "outputs": []
    },
    {
      "cell_type": "code",
      "source": [
        "from transformers import PretrainedConfig\n",
        "\n",
        "class ModelConfig(PretrainedConfig):\n",
        "    model_type = \"resnet\"\n",
        "    outputs = 5\n",
        "\n",
        "    def __init__(self, outputs=5, **kwargs):\n",
        "        super().__init__(**kwargs)\n",
        "        self.outputs = outputs\n",
        "\n",
        "config = ModelConfig(outputs=5)\n",
        "config.save_pretrained(\"./\")"
      ],
      "metadata": {
        "id": "-mCGoZHSjNX7"
      },
      "execution_count": 26,
      "outputs": []
    },
    {
      "cell_type": "code",
      "source": [
        "import onnx\n",
        "from onnxruntime.quantization import quantize_dynamic, QuantType\n",
        "\n",
        "# Cargar el modelo ONNX\n",
        "model_fp32 = 'model.onnx'\n",
        "model_quant = 'model_quantized.onnx'\n",
        "\n",
        "# Cuantizar el modelo\n",
        "quantize_dynamic(model_fp32, model_quant, weight_type=QuantType.QInt8)"
      ],
      "metadata": {
        "colab": {
          "base_uri": "https://localhost:8080/"
        },
        "id": "KurwDVb7o68_",
        "outputId": "8a01744e-1dfa-4ed6-e9f7-762df56b6449"
      },
      "execution_count": 27,
      "outputs": [
        {
          "output_type": "stream",
          "name": "stderr",
          "text": [
            "WARNING:root:Please consider to run pre-processing before quantization. Refer to example: https://github.com/microsoft/onnxruntime-inference-examples/blob/main/quantization/image_classification/cpu/ReadMe.md \n"
          ]
        }
      ]
    },
    {
      "cell_type": "markdown",
      "source": [
        "## Estadísticas y pruebas del modelo"
      ],
      "metadata": {
        "id": "Lyvfs9yOEIvZ"
      }
    },
    {
      "cell_type": "markdown",
      "source": [
        "Prueba del modelo con una imagen extraída de internet"
      ],
      "metadata": {
        "id": "kR2c__p2RGYP"
      }
    },
    {
      "cell_type": "code",
      "source": [
        "image_path = '/content/metal_collar.jpg'\n",
        "image = Image.open(image_path)\n",
        "best_model.eval()\n",
        "image = transformImage(image)\n",
        "image = image.unsqueeze(0)\n",
        "y_hat = best_model(image)\n",
        "softmax = torch.nn.Softmax(dim=1)\n",
        "prob_tensor = softmax(y_hat)\n",
        "\n",
        "labels = ['Brick', 'Metal', 'Paper', 'Plastic', 'Wood']\n",
        "probabilities = prob_tensor.squeeze().tolist()  # Convertir el tensor a lista\n",
        "\n",
        "print(\"Probabilities for each class:\")\n",
        "for label, prob in zip(labels, probabilities):\n",
        "    print(f\"{label}: {prob:.2f}\")\n"
      ],
      "metadata": {
        "colab": {
          "base_uri": "https://localhost:8080/"
        },
        "id": "DjJD0CYldQtA",
        "outputId": "23020b98-279f-4d58-ec75-5f878f82a420"
      },
      "execution_count": 42,
      "outputs": [
        {
          "output_type": "stream",
          "name": "stdout",
          "text": [
            "Probabilities for each class:\n",
            "Brick: 0.13\n",
            "Metal: 0.84\n",
            "Paper: 0.00\n",
            "Plastic: 0.03\n",
            "Wood: 0.00\n"
          ]
        }
      ]
    },
    {
      "cell_type": "markdown",
      "source": [
        "Cálculo de memoria en MB utilizada durante la ejecución del modelo"
      ],
      "metadata": {
        "id": "JlK5ofsJDXp5"
      }
    },
    {
      "cell_type": "code",
      "source": [
        "# Liberar memoria previamente usada\n",
        "torch.cuda.empty_cache()\n",
        "\n",
        "# Medir memoria inicial\n",
        "torch.cuda.reset_peak_memory_stats()\n",
        "start_mem = torch.cuda.memory_allocated()\n",
        "\n",
        "# Validación\n",
        "best_model.eval()\n",
        "for x, y in testloader:\n",
        "          x, y = x.to(device), y.to(device)\n",
        "\n",
        "# Medir memoria después de la ejecución\n",
        "end_mem = torch.cuda.memory_allocated()\n",
        "max_mem = torch.cuda.max_memory_allocated()\n",
        "\n",
        "# Conversión de bytes a MB\n",
        "end_mem_mb = (end_mem - start_mem) / (1024 ** 2)\n",
        "max_mem_mb = max_mem / (1024 ** 2)\n",
        "\n",
        "print(f\"Memory used after execution: {end_mem_mb:.2f} MB\")\n",
        "print(f\"Peak memory used during execution: {max_mem_mb:.2f} MB\")"
      ],
      "metadata": {
        "colab": {
          "base_uri": "https://localhost:8080/"
        },
        "id": "yT1KaMNoQd-n",
        "outputId": "502b4d80-87e6-424b-b51d-503d4187aeb3"
      },
      "execution_count": 31,
      "outputs": [
        {
          "output_type": "stream",
          "name": "stdout",
          "text": [
            "Memory used after execution: 22.50 MB\n",
            "Peak memory used during execution: 327.41 MB\n"
          ]
        }
      ]
    },
    {
      "cell_type": "markdown",
      "source": [
        "Cálculo de FLOPs y conversión a GFLOPs"
      ],
      "metadata": {
        "id": "u7NIcoMjDNlS"
      }
    },
    {
      "cell_type": "code",
      "source": [
        "model_summary = summary(resnet50mod, input_size=(1, 3, 512, 512))\n",
        "FLOPs = model_summary.total_mult_adds / 1e9\n",
        "print(f\"Total FLOPs: {FLOPs:.3f} GFLOPs\")"
      ],
      "metadata": {
        "colab": {
          "base_uri": "https://localhost:8080/"
        },
        "id": "d28icQ1TU39y",
        "outputId": "5ef47597-a207-40a9-a2d0-22537abe8a3a"
      },
      "execution_count": 32,
      "outputs": [
        {
          "output_type": "stream",
          "name": "stdout",
          "text": [
            "Total FLOPs: 21.354 GFLOPs\n"
          ]
        }
      ]
    }
  ],
  "metadata": {
    "accelerator": "GPU",
    "colab": {
      "gpuType": "T4",
      "provenance": []
    },
    "kernelspec": {
      "display_name": "Python 3",
      "name": "python3"
    },
    "language_info": {
      "name": "python"
    },
    "widgets": {
      "application/vnd.jupyter.widget-state+json": {
        "5746670e922946c8bdc7f2d6aaf1f0ee": {
          "model_module": "@jupyter-widgets/controls",
          "model_name": "HBoxModel",
          "model_module_version": "1.5.0",
          "state": {
            "_dom_classes": [],
            "_model_module": "@jupyter-widgets/controls",
            "_model_module_version": "1.5.0",
            "_model_name": "HBoxModel",
            "_view_count": null,
            "_view_module": "@jupyter-widgets/controls",
            "_view_module_version": "1.5.0",
            "_view_name": "HBoxView",
            "box_style": "",
            "children": [
              "IPY_MODEL_c060ca89cfe24973b6f325f27805e0b1",
              "IPY_MODEL_b562c3b520ef488a99a3228b36055d95",
              "IPY_MODEL_894b5bc8726c49e581b7c8e7dd31420a"
            ],
            "layout": "IPY_MODEL_f78c7f9d2a3e4c548f6215a3707cf2b5"
          }
        },
        "c060ca89cfe24973b6f325f27805e0b1": {
          "model_module": "@jupyter-widgets/controls",
          "model_name": "HTMLModel",
          "model_module_version": "1.5.0",
          "state": {
            "_dom_classes": [],
            "_model_module": "@jupyter-widgets/controls",
            "_model_module_version": "1.5.0",
            "_model_name": "HTMLModel",
            "_view_count": null,
            "_view_module": "@jupyter-widgets/controls",
            "_view_module_version": "1.5.0",
            "_view_name": "HTMLView",
            "description": "",
            "description_tooltip": null,
            "layout": "IPY_MODEL_18734af41a4e400f8b1bed47ec461d01",
            "placeholder": "​",
            "style": "IPY_MODEL_db21faebb946492f9340722a9cd121c0",
            "value": "Downloading readme: 100%"
          }
        },
        "b562c3b520ef488a99a3228b36055d95": {
          "model_module": "@jupyter-widgets/controls",
          "model_name": "FloatProgressModel",
          "model_module_version": "1.5.0",
          "state": {
            "_dom_classes": [],
            "_model_module": "@jupyter-widgets/controls",
            "_model_module_version": "1.5.0",
            "_model_name": "FloatProgressModel",
            "_view_count": null,
            "_view_module": "@jupyter-widgets/controls",
            "_view_module_version": "1.5.0",
            "_view_name": "ProgressView",
            "bar_style": "success",
            "description": "",
            "description_tooltip": null,
            "layout": "IPY_MODEL_cd23355bebf14b318416337423c7a3ab",
            "max": 2667,
            "min": 0,
            "orientation": "horizontal",
            "style": "IPY_MODEL_0abd5239187e4600a5c4e8c1e8d89143",
            "value": 2667
          }
        },
        "894b5bc8726c49e581b7c8e7dd31420a": {
          "model_module": "@jupyter-widgets/controls",
          "model_name": "HTMLModel",
          "model_module_version": "1.5.0",
          "state": {
            "_dom_classes": [],
            "_model_module": "@jupyter-widgets/controls",
            "_model_module_version": "1.5.0",
            "_model_name": "HTMLModel",
            "_view_count": null,
            "_view_module": "@jupyter-widgets/controls",
            "_view_module_version": "1.5.0",
            "_view_name": "HTMLView",
            "description": "",
            "description_tooltip": null,
            "layout": "IPY_MODEL_e9548e6bf54f405a9bf5e2d21657a38f",
            "placeholder": "​",
            "style": "IPY_MODEL_f59b2680f4f44957850c051309c2d9d8",
            "value": " 2.67k/2.67k [00:00&lt;00:00, 14.0kB/s]"
          }
        },
        "f78c7f9d2a3e4c548f6215a3707cf2b5": {
          "model_module": "@jupyter-widgets/base",
          "model_name": "LayoutModel",
          "model_module_version": "1.2.0",
          "state": {
            "_model_module": "@jupyter-widgets/base",
            "_model_module_version": "1.2.0",
            "_model_name": "LayoutModel",
            "_view_count": null,
            "_view_module": "@jupyter-widgets/base",
            "_view_module_version": "1.2.0",
            "_view_name": "LayoutView",
            "align_content": null,
            "align_items": null,
            "align_self": null,
            "border": null,
            "bottom": null,
            "display": null,
            "flex": null,
            "flex_flow": null,
            "grid_area": null,
            "grid_auto_columns": null,
            "grid_auto_flow": null,
            "grid_auto_rows": null,
            "grid_column": null,
            "grid_gap": null,
            "grid_row": null,
            "grid_template_areas": null,
            "grid_template_columns": null,
            "grid_template_rows": null,
            "height": null,
            "justify_content": null,
            "justify_items": null,
            "left": null,
            "margin": null,
            "max_height": null,
            "max_width": null,
            "min_height": null,
            "min_width": null,
            "object_fit": null,
            "object_position": null,
            "order": null,
            "overflow": null,
            "overflow_x": null,
            "overflow_y": null,
            "padding": null,
            "right": null,
            "top": null,
            "visibility": null,
            "width": null
          }
        },
        "18734af41a4e400f8b1bed47ec461d01": {
          "model_module": "@jupyter-widgets/base",
          "model_name": "LayoutModel",
          "model_module_version": "1.2.0",
          "state": {
            "_model_module": "@jupyter-widgets/base",
            "_model_module_version": "1.2.0",
            "_model_name": "LayoutModel",
            "_view_count": null,
            "_view_module": "@jupyter-widgets/base",
            "_view_module_version": "1.2.0",
            "_view_name": "LayoutView",
            "align_content": null,
            "align_items": null,
            "align_self": null,
            "border": null,
            "bottom": null,
            "display": null,
            "flex": null,
            "flex_flow": null,
            "grid_area": null,
            "grid_auto_columns": null,
            "grid_auto_flow": null,
            "grid_auto_rows": null,
            "grid_column": null,
            "grid_gap": null,
            "grid_row": null,
            "grid_template_areas": null,
            "grid_template_columns": null,
            "grid_template_rows": null,
            "height": null,
            "justify_content": null,
            "justify_items": null,
            "left": null,
            "margin": null,
            "max_height": null,
            "max_width": null,
            "min_height": null,
            "min_width": null,
            "object_fit": null,
            "object_position": null,
            "order": null,
            "overflow": null,
            "overflow_x": null,
            "overflow_y": null,
            "padding": null,
            "right": null,
            "top": null,
            "visibility": null,
            "width": null
          }
        },
        "db21faebb946492f9340722a9cd121c0": {
          "model_module": "@jupyter-widgets/controls",
          "model_name": "DescriptionStyleModel",
          "model_module_version": "1.5.0",
          "state": {
            "_model_module": "@jupyter-widgets/controls",
            "_model_module_version": "1.5.0",
            "_model_name": "DescriptionStyleModel",
            "_view_count": null,
            "_view_module": "@jupyter-widgets/base",
            "_view_module_version": "1.2.0",
            "_view_name": "StyleView",
            "description_width": ""
          }
        },
        "cd23355bebf14b318416337423c7a3ab": {
          "model_module": "@jupyter-widgets/base",
          "model_name": "LayoutModel",
          "model_module_version": "1.2.0",
          "state": {
            "_model_module": "@jupyter-widgets/base",
            "_model_module_version": "1.2.0",
            "_model_name": "LayoutModel",
            "_view_count": null,
            "_view_module": "@jupyter-widgets/base",
            "_view_module_version": "1.2.0",
            "_view_name": "LayoutView",
            "align_content": null,
            "align_items": null,
            "align_self": null,
            "border": null,
            "bottom": null,
            "display": null,
            "flex": null,
            "flex_flow": null,
            "grid_area": null,
            "grid_auto_columns": null,
            "grid_auto_flow": null,
            "grid_auto_rows": null,
            "grid_column": null,
            "grid_gap": null,
            "grid_row": null,
            "grid_template_areas": null,
            "grid_template_columns": null,
            "grid_template_rows": null,
            "height": null,
            "justify_content": null,
            "justify_items": null,
            "left": null,
            "margin": null,
            "max_height": null,
            "max_width": null,
            "min_height": null,
            "min_width": null,
            "object_fit": null,
            "object_position": null,
            "order": null,
            "overflow": null,
            "overflow_x": null,
            "overflow_y": null,
            "padding": null,
            "right": null,
            "top": null,
            "visibility": null,
            "width": null
          }
        },
        "0abd5239187e4600a5c4e8c1e8d89143": {
          "model_module": "@jupyter-widgets/controls",
          "model_name": "ProgressStyleModel",
          "model_module_version": "1.5.0",
          "state": {
            "_model_module": "@jupyter-widgets/controls",
            "_model_module_version": "1.5.0",
            "_model_name": "ProgressStyleModel",
            "_view_count": null,
            "_view_module": "@jupyter-widgets/base",
            "_view_module_version": "1.2.0",
            "_view_name": "StyleView",
            "bar_color": null,
            "description_width": ""
          }
        },
        "e9548e6bf54f405a9bf5e2d21657a38f": {
          "model_module": "@jupyter-widgets/base",
          "model_name": "LayoutModel",
          "model_module_version": "1.2.0",
          "state": {
            "_model_module": "@jupyter-widgets/base",
            "_model_module_version": "1.2.0",
            "_model_name": "LayoutModel",
            "_view_count": null,
            "_view_module": "@jupyter-widgets/base",
            "_view_module_version": "1.2.0",
            "_view_name": "LayoutView",
            "align_content": null,
            "align_items": null,
            "align_self": null,
            "border": null,
            "bottom": null,
            "display": null,
            "flex": null,
            "flex_flow": null,
            "grid_area": null,
            "grid_auto_columns": null,
            "grid_auto_flow": null,
            "grid_auto_rows": null,
            "grid_column": null,
            "grid_gap": null,
            "grid_row": null,
            "grid_template_areas": null,
            "grid_template_columns": null,
            "grid_template_rows": null,
            "height": null,
            "justify_content": null,
            "justify_items": null,
            "left": null,
            "margin": null,
            "max_height": null,
            "max_width": null,
            "min_height": null,
            "min_width": null,
            "object_fit": null,
            "object_position": null,
            "order": null,
            "overflow": null,
            "overflow_x": null,
            "overflow_y": null,
            "padding": null,
            "right": null,
            "top": null,
            "visibility": null,
            "width": null
          }
        },
        "f59b2680f4f44957850c051309c2d9d8": {
          "model_module": "@jupyter-widgets/controls",
          "model_name": "DescriptionStyleModel",
          "model_module_version": "1.5.0",
          "state": {
            "_model_module": "@jupyter-widgets/controls",
            "_model_module_version": "1.5.0",
            "_model_name": "DescriptionStyleModel",
            "_view_count": null,
            "_view_module": "@jupyter-widgets/base",
            "_view_module_version": "1.2.0",
            "_view_name": "StyleView",
            "description_width": ""
          }
        },
        "7b89c280523f47f4b1c199e0a91506d2": {
          "model_module": "@jupyter-widgets/controls",
          "model_name": "HBoxModel",
          "model_module_version": "1.5.0",
          "state": {
            "_dom_classes": [],
            "_model_module": "@jupyter-widgets/controls",
            "_model_module_version": "1.5.0",
            "_model_name": "HBoxModel",
            "_view_count": null,
            "_view_module": "@jupyter-widgets/controls",
            "_view_module_version": "1.5.0",
            "_view_name": "HBoxView",
            "box_style": "",
            "children": [
              "IPY_MODEL_5014b958b9434795a086139715024073",
              "IPY_MODEL_5f281de36a6341ecb9ce807dac850b32",
              "IPY_MODEL_6cd7d682c662450cb6592cd52cd44849"
            ],
            "layout": "IPY_MODEL_8be8bdbbc46545c1b9aeaaa1d30b9936"
          }
        },
        "5014b958b9434795a086139715024073": {
          "model_module": "@jupyter-widgets/controls",
          "model_name": "HTMLModel",
          "model_module_version": "1.5.0",
          "state": {
            "_dom_classes": [],
            "_model_module": "@jupyter-widgets/controls",
            "_model_module_version": "1.5.0",
            "_model_name": "HTMLModel",
            "_view_count": null,
            "_view_module": "@jupyter-widgets/controls",
            "_view_module_version": "1.5.0",
            "_view_name": "HTMLView",
            "description": "",
            "description_tooltip": null,
            "layout": "IPY_MODEL_021266f79da04191a0bef52562551563",
            "placeholder": "​",
            "style": "IPY_MODEL_55ad6e7e0d88490da1e83ac7d2f1c50c",
            "value": "Downloading data: 100%"
          }
        },
        "5f281de36a6341ecb9ce807dac850b32": {
          "model_module": "@jupyter-widgets/controls",
          "model_name": "FloatProgressModel",
          "model_module_version": "1.5.0",
          "state": {
            "_dom_classes": [],
            "_model_module": "@jupyter-widgets/controls",
            "_model_module_version": "1.5.0",
            "_model_name": "FloatProgressModel",
            "_view_count": null,
            "_view_module": "@jupyter-widgets/controls",
            "_view_module_version": "1.5.0",
            "_view_name": "ProgressView",
            "bar_style": "success",
            "description": "",
            "description_tooltip": null,
            "layout": "IPY_MODEL_99e9f3fe5bbf4ca1bf04f8179b5f9639",
            "max": 16534523,
            "min": 0,
            "orientation": "horizontal",
            "style": "IPY_MODEL_1c2ac707c9b9429c8a35a25acf3cdfb2",
            "value": 16534523
          }
        },
        "6cd7d682c662450cb6592cd52cd44849": {
          "model_module": "@jupyter-widgets/controls",
          "model_name": "HTMLModel",
          "model_module_version": "1.5.0",
          "state": {
            "_dom_classes": [],
            "_model_module": "@jupyter-widgets/controls",
            "_model_module_version": "1.5.0",
            "_model_name": "HTMLModel",
            "_view_count": null,
            "_view_module": "@jupyter-widgets/controls",
            "_view_module_version": "1.5.0",
            "_view_name": "HTMLView",
            "description": "",
            "description_tooltip": null,
            "layout": "IPY_MODEL_12f8a66d276f4245860830fcbf2e2829",
            "placeholder": "​",
            "style": "IPY_MODEL_bfccc2c6fd204eef85ba5040d4f84ded",
            "value": " 16.5M/16.5M [00:00&lt;00:00, 21.2MB/s]"
          }
        },
        "8be8bdbbc46545c1b9aeaaa1d30b9936": {
          "model_module": "@jupyter-widgets/base",
          "model_name": "LayoutModel",
          "model_module_version": "1.2.0",
          "state": {
            "_model_module": "@jupyter-widgets/base",
            "_model_module_version": "1.2.0",
            "_model_name": "LayoutModel",
            "_view_count": null,
            "_view_module": "@jupyter-widgets/base",
            "_view_module_version": "1.2.0",
            "_view_name": "LayoutView",
            "align_content": null,
            "align_items": null,
            "align_self": null,
            "border": null,
            "bottom": null,
            "display": null,
            "flex": null,
            "flex_flow": null,
            "grid_area": null,
            "grid_auto_columns": null,
            "grid_auto_flow": null,
            "grid_auto_rows": null,
            "grid_column": null,
            "grid_gap": null,
            "grid_row": null,
            "grid_template_areas": null,
            "grid_template_columns": null,
            "grid_template_rows": null,
            "height": null,
            "justify_content": null,
            "justify_items": null,
            "left": null,
            "margin": null,
            "max_height": null,
            "max_width": null,
            "min_height": null,
            "min_width": null,
            "object_fit": null,
            "object_position": null,
            "order": null,
            "overflow": null,
            "overflow_x": null,
            "overflow_y": null,
            "padding": null,
            "right": null,
            "top": null,
            "visibility": null,
            "width": null
          }
        },
        "021266f79da04191a0bef52562551563": {
          "model_module": "@jupyter-widgets/base",
          "model_name": "LayoutModel",
          "model_module_version": "1.2.0",
          "state": {
            "_model_module": "@jupyter-widgets/base",
            "_model_module_version": "1.2.0",
            "_model_name": "LayoutModel",
            "_view_count": null,
            "_view_module": "@jupyter-widgets/base",
            "_view_module_version": "1.2.0",
            "_view_name": "LayoutView",
            "align_content": null,
            "align_items": null,
            "align_self": null,
            "border": null,
            "bottom": null,
            "display": null,
            "flex": null,
            "flex_flow": null,
            "grid_area": null,
            "grid_auto_columns": null,
            "grid_auto_flow": null,
            "grid_auto_rows": null,
            "grid_column": null,
            "grid_gap": null,
            "grid_row": null,
            "grid_template_areas": null,
            "grid_template_columns": null,
            "grid_template_rows": null,
            "height": null,
            "justify_content": null,
            "justify_items": null,
            "left": null,
            "margin": null,
            "max_height": null,
            "max_width": null,
            "min_height": null,
            "min_width": null,
            "object_fit": null,
            "object_position": null,
            "order": null,
            "overflow": null,
            "overflow_x": null,
            "overflow_y": null,
            "padding": null,
            "right": null,
            "top": null,
            "visibility": null,
            "width": null
          }
        },
        "55ad6e7e0d88490da1e83ac7d2f1c50c": {
          "model_module": "@jupyter-widgets/controls",
          "model_name": "DescriptionStyleModel",
          "model_module_version": "1.5.0",
          "state": {
            "_model_module": "@jupyter-widgets/controls",
            "_model_module_version": "1.5.0",
            "_model_name": "DescriptionStyleModel",
            "_view_count": null,
            "_view_module": "@jupyter-widgets/base",
            "_view_module_version": "1.2.0",
            "_view_name": "StyleView",
            "description_width": ""
          }
        },
        "99e9f3fe5bbf4ca1bf04f8179b5f9639": {
          "model_module": "@jupyter-widgets/base",
          "model_name": "LayoutModel",
          "model_module_version": "1.2.0",
          "state": {
            "_model_module": "@jupyter-widgets/base",
            "_model_module_version": "1.2.0",
            "_model_name": "LayoutModel",
            "_view_count": null,
            "_view_module": "@jupyter-widgets/base",
            "_view_module_version": "1.2.0",
            "_view_name": "LayoutView",
            "align_content": null,
            "align_items": null,
            "align_self": null,
            "border": null,
            "bottom": null,
            "display": null,
            "flex": null,
            "flex_flow": null,
            "grid_area": null,
            "grid_auto_columns": null,
            "grid_auto_flow": null,
            "grid_auto_rows": null,
            "grid_column": null,
            "grid_gap": null,
            "grid_row": null,
            "grid_template_areas": null,
            "grid_template_columns": null,
            "grid_template_rows": null,
            "height": null,
            "justify_content": null,
            "justify_items": null,
            "left": null,
            "margin": null,
            "max_height": null,
            "max_width": null,
            "min_height": null,
            "min_width": null,
            "object_fit": null,
            "object_position": null,
            "order": null,
            "overflow": null,
            "overflow_x": null,
            "overflow_y": null,
            "padding": null,
            "right": null,
            "top": null,
            "visibility": null,
            "width": null
          }
        },
        "1c2ac707c9b9429c8a35a25acf3cdfb2": {
          "model_module": "@jupyter-widgets/controls",
          "model_name": "ProgressStyleModel",
          "model_module_version": "1.5.0",
          "state": {
            "_model_module": "@jupyter-widgets/controls",
            "_model_module_version": "1.5.0",
            "_model_name": "ProgressStyleModel",
            "_view_count": null,
            "_view_module": "@jupyter-widgets/base",
            "_view_module_version": "1.2.0",
            "_view_name": "StyleView",
            "bar_color": null,
            "description_width": ""
          }
        },
        "12f8a66d276f4245860830fcbf2e2829": {
          "model_module": "@jupyter-widgets/base",
          "model_name": "LayoutModel",
          "model_module_version": "1.2.0",
          "state": {
            "_model_module": "@jupyter-widgets/base",
            "_model_module_version": "1.2.0",
            "_model_name": "LayoutModel",
            "_view_count": null,
            "_view_module": "@jupyter-widgets/base",
            "_view_module_version": "1.2.0",
            "_view_name": "LayoutView",
            "align_content": null,
            "align_items": null,
            "align_self": null,
            "border": null,
            "bottom": null,
            "display": null,
            "flex": null,
            "flex_flow": null,
            "grid_area": null,
            "grid_auto_columns": null,
            "grid_auto_flow": null,
            "grid_auto_rows": null,
            "grid_column": null,
            "grid_gap": null,
            "grid_row": null,
            "grid_template_areas": null,
            "grid_template_columns": null,
            "grid_template_rows": null,
            "height": null,
            "justify_content": null,
            "justify_items": null,
            "left": null,
            "margin": null,
            "max_height": null,
            "max_width": null,
            "min_height": null,
            "min_width": null,
            "object_fit": null,
            "object_position": null,
            "order": null,
            "overflow": null,
            "overflow_x": null,
            "overflow_y": null,
            "padding": null,
            "right": null,
            "top": null,
            "visibility": null,
            "width": null
          }
        },
        "bfccc2c6fd204eef85ba5040d4f84ded": {
          "model_module": "@jupyter-widgets/controls",
          "model_name": "DescriptionStyleModel",
          "model_module_version": "1.5.0",
          "state": {
            "_model_module": "@jupyter-widgets/controls",
            "_model_module_version": "1.5.0",
            "_model_name": "DescriptionStyleModel",
            "_view_count": null,
            "_view_module": "@jupyter-widgets/base",
            "_view_module_version": "1.2.0",
            "_view_name": "StyleView",
            "description_width": ""
          }
        },
        "680536623ad341d3804358357f19e57c": {
          "model_module": "@jupyter-widgets/controls",
          "model_name": "HBoxModel",
          "model_module_version": "1.5.0",
          "state": {
            "_dom_classes": [],
            "_model_module": "@jupyter-widgets/controls",
            "_model_module_version": "1.5.0",
            "_model_name": "HBoxModel",
            "_view_count": null,
            "_view_module": "@jupyter-widgets/controls",
            "_view_module_version": "1.5.0",
            "_view_name": "HBoxView",
            "box_style": "",
            "children": [
              "IPY_MODEL_7d4893fb28a04523bc77123faf5b4d50",
              "IPY_MODEL_96956ee4584943d6a0636372984b93b6",
              "IPY_MODEL_f679f11f65bf40618cb18c30b07d2283"
            ],
            "layout": "IPY_MODEL_d394d65fbecd498585682b4ff68cf3b1"
          }
        },
        "7d4893fb28a04523bc77123faf5b4d50": {
          "model_module": "@jupyter-widgets/controls",
          "model_name": "HTMLModel",
          "model_module_version": "1.5.0",
          "state": {
            "_dom_classes": [],
            "_model_module": "@jupyter-widgets/controls",
            "_model_module_version": "1.5.0",
            "_model_name": "HTMLModel",
            "_view_count": null,
            "_view_module": "@jupyter-widgets/controls",
            "_view_module_version": "1.5.0",
            "_view_name": "HTMLView",
            "description": "",
            "description_tooltip": null,
            "layout": "IPY_MODEL_093a9e125dfb4c97aa2150d596b25478",
            "placeholder": "​",
            "style": "IPY_MODEL_51e05b8042f040b0ba2a0eec44003a6b",
            "value": "Downloading data: 100%"
          }
        },
        "96956ee4584943d6a0636372984b93b6": {
          "model_module": "@jupyter-widgets/controls",
          "model_name": "FloatProgressModel",
          "model_module_version": "1.5.0",
          "state": {
            "_dom_classes": [],
            "_model_module": "@jupyter-widgets/controls",
            "_model_module_version": "1.5.0",
            "_model_name": "FloatProgressModel",
            "_view_count": null,
            "_view_module": "@jupyter-widgets/controls",
            "_view_module_version": "1.5.0",
            "_view_name": "ProgressView",
            "bar_style": "success",
            "description": "",
            "description_tooltip": null,
            "layout": "IPY_MODEL_cd34d91849234be0a649365734fc4229",
            "max": 4244382,
            "min": 0,
            "orientation": "horizontal",
            "style": "IPY_MODEL_8a70e47a879c4f2daed426a089a4c08c",
            "value": 4244382
          }
        },
        "f679f11f65bf40618cb18c30b07d2283": {
          "model_module": "@jupyter-widgets/controls",
          "model_name": "HTMLModel",
          "model_module_version": "1.5.0",
          "state": {
            "_dom_classes": [],
            "_model_module": "@jupyter-widgets/controls",
            "_model_module_version": "1.5.0",
            "_model_name": "HTMLModel",
            "_view_count": null,
            "_view_module": "@jupyter-widgets/controls",
            "_view_module_version": "1.5.0",
            "_view_name": "HTMLView",
            "description": "",
            "description_tooltip": null,
            "layout": "IPY_MODEL_5e39942a799b43f789bd2a3908d0575d",
            "placeholder": "​",
            "style": "IPY_MODEL_cd32bae0d6ed4b50b22945fb46040dd6",
            "value": " 4.24M/4.24M [00:00&lt;00:00, 7.95MB/s]"
          }
        },
        "d394d65fbecd498585682b4ff68cf3b1": {
          "model_module": "@jupyter-widgets/base",
          "model_name": "LayoutModel",
          "model_module_version": "1.2.0",
          "state": {
            "_model_module": "@jupyter-widgets/base",
            "_model_module_version": "1.2.0",
            "_model_name": "LayoutModel",
            "_view_count": null,
            "_view_module": "@jupyter-widgets/base",
            "_view_module_version": "1.2.0",
            "_view_name": "LayoutView",
            "align_content": null,
            "align_items": null,
            "align_self": null,
            "border": null,
            "bottom": null,
            "display": null,
            "flex": null,
            "flex_flow": null,
            "grid_area": null,
            "grid_auto_columns": null,
            "grid_auto_flow": null,
            "grid_auto_rows": null,
            "grid_column": null,
            "grid_gap": null,
            "grid_row": null,
            "grid_template_areas": null,
            "grid_template_columns": null,
            "grid_template_rows": null,
            "height": null,
            "justify_content": null,
            "justify_items": null,
            "left": null,
            "margin": null,
            "max_height": null,
            "max_width": null,
            "min_height": null,
            "min_width": null,
            "object_fit": null,
            "object_position": null,
            "order": null,
            "overflow": null,
            "overflow_x": null,
            "overflow_y": null,
            "padding": null,
            "right": null,
            "top": null,
            "visibility": null,
            "width": null
          }
        },
        "093a9e125dfb4c97aa2150d596b25478": {
          "model_module": "@jupyter-widgets/base",
          "model_name": "LayoutModel",
          "model_module_version": "1.2.0",
          "state": {
            "_model_module": "@jupyter-widgets/base",
            "_model_module_version": "1.2.0",
            "_model_name": "LayoutModel",
            "_view_count": null,
            "_view_module": "@jupyter-widgets/base",
            "_view_module_version": "1.2.0",
            "_view_name": "LayoutView",
            "align_content": null,
            "align_items": null,
            "align_self": null,
            "border": null,
            "bottom": null,
            "display": null,
            "flex": null,
            "flex_flow": null,
            "grid_area": null,
            "grid_auto_columns": null,
            "grid_auto_flow": null,
            "grid_auto_rows": null,
            "grid_column": null,
            "grid_gap": null,
            "grid_row": null,
            "grid_template_areas": null,
            "grid_template_columns": null,
            "grid_template_rows": null,
            "height": null,
            "justify_content": null,
            "justify_items": null,
            "left": null,
            "margin": null,
            "max_height": null,
            "max_width": null,
            "min_height": null,
            "min_width": null,
            "object_fit": null,
            "object_position": null,
            "order": null,
            "overflow": null,
            "overflow_x": null,
            "overflow_y": null,
            "padding": null,
            "right": null,
            "top": null,
            "visibility": null,
            "width": null
          }
        },
        "51e05b8042f040b0ba2a0eec44003a6b": {
          "model_module": "@jupyter-widgets/controls",
          "model_name": "DescriptionStyleModel",
          "model_module_version": "1.5.0",
          "state": {
            "_model_module": "@jupyter-widgets/controls",
            "_model_module_version": "1.5.0",
            "_model_name": "DescriptionStyleModel",
            "_view_count": null,
            "_view_module": "@jupyter-widgets/base",
            "_view_module_version": "1.2.0",
            "_view_name": "StyleView",
            "description_width": ""
          }
        },
        "cd34d91849234be0a649365734fc4229": {
          "model_module": "@jupyter-widgets/base",
          "model_name": "LayoutModel",
          "model_module_version": "1.2.0",
          "state": {
            "_model_module": "@jupyter-widgets/base",
            "_model_module_version": "1.2.0",
            "_model_name": "LayoutModel",
            "_view_count": null,
            "_view_module": "@jupyter-widgets/base",
            "_view_module_version": "1.2.0",
            "_view_name": "LayoutView",
            "align_content": null,
            "align_items": null,
            "align_self": null,
            "border": null,
            "bottom": null,
            "display": null,
            "flex": null,
            "flex_flow": null,
            "grid_area": null,
            "grid_auto_columns": null,
            "grid_auto_flow": null,
            "grid_auto_rows": null,
            "grid_column": null,
            "grid_gap": null,
            "grid_row": null,
            "grid_template_areas": null,
            "grid_template_columns": null,
            "grid_template_rows": null,
            "height": null,
            "justify_content": null,
            "justify_items": null,
            "left": null,
            "margin": null,
            "max_height": null,
            "max_width": null,
            "min_height": null,
            "min_width": null,
            "object_fit": null,
            "object_position": null,
            "order": null,
            "overflow": null,
            "overflow_x": null,
            "overflow_y": null,
            "padding": null,
            "right": null,
            "top": null,
            "visibility": null,
            "width": null
          }
        },
        "8a70e47a879c4f2daed426a089a4c08c": {
          "model_module": "@jupyter-widgets/controls",
          "model_name": "ProgressStyleModel",
          "model_module_version": "1.5.0",
          "state": {
            "_model_module": "@jupyter-widgets/controls",
            "_model_module_version": "1.5.0",
            "_model_name": "ProgressStyleModel",
            "_view_count": null,
            "_view_module": "@jupyter-widgets/base",
            "_view_module_version": "1.2.0",
            "_view_name": "StyleView",
            "bar_color": null,
            "description_width": ""
          }
        },
        "5e39942a799b43f789bd2a3908d0575d": {
          "model_module": "@jupyter-widgets/base",
          "model_name": "LayoutModel",
          "model_module_version": "1.2.0",
          "state": {
            "_model_module": "@jupyter-widgets/base",
            "_model_module_version": "1.2.0",
            "_model_name": "LayoutModel",
            "_view_count": null,
            "_view_module": "@jupyter-widgets/base",
            "_view_module_version": "1.2.0",
            "_view_name": "LayoutView",
            "align_content": null,
            "align_items": null,
            "align_self": null,
            "border": null,
            "bottom": null,
            "display": null,
            "flex": null,
            "flex_flow": null,
            "grid_area": null,
            "grid_auto_columns": null,
            "grid_auto_flow": null,
            "grid_auto_rows": null,
            "grid_column": null,
            "grid_gap": null,
            "grid_row": null,
            "grid_template_areas": null,
            "grid_template_columns": null,
            "grid_template_rows": null,
            "height": null,
            "justify_content": null,
            "justify_items": null,
            "left": null,
            "margin": null,
            "max_height": null,
            "max_width": null,
            "min_height": null,
            "min_width": null,
            "object_fit": null,
            "object_position": null,
            "order": null,
            "overflow": null,
            "overflow_x": null,
            "overflow_y": null,
            "padding": null,
            "right": null,
            "top": null,
            "visibility": null,
            "width": null
          }
        },
        "cd32bae0d6ed4b50b22945fb46040dd6": {
          "model_module": "@jupyter-widgets/controls",
          "model_name": "DescriptionStyleModel",
          "model_module_version": "1.5.0",
          "state": {
            "_model_module": "@jupyter-widgets/controls",
            "_model_module_version": "1.5.0",
            "_model_name": "DescriptionStyleModel",
            "_view_count": null,
            "_view_module": "@jupyter-widgets/base",
            "_view_module_version": "1.2.0",
            "_view_name": "StyleView",
            "description_width": ""
          }
        },
        "ef3b8aa1de064ae4880efbb5094455aa": {
          "model_module": "@jupyter-widgets/controls",
          "model_name": "HBoxModel",
          "model_module_version": "1.5.0",
          "state": {
            "_dom_classes": [],
            "_model_module": "@jupyter-widgets/controls",
            "_model_module_version": "1.5.0",
            "_model_name": "HBoxModel",
            "_view_count": null,
            "_view_module": "@jupyter-widgets/controls",
            "_view_module_version": "1.5.0",
            "_view_name": "HBoxView",
            "box_style": "",
            "children": [
              "IPY_MODEL_b43779f2f9374ec79a6a0088ad0cc964",
              "IPY_MODEL_b22b9df485c747c49e17cc03b0ffef3b",
              "IPY_MODEL_71df442c608c43c0a66f914551e64f58"
            ],
            "layout": "IPY_MODEL_78a39817f2254ea18a4a1182cc9ea7d8"
          }
        },
        "b43779f2f9374ec79a6a0088ad0cc964": {
          "model_module": "@jupyter-widgets/controls",
          "model_name": "HTMLModel",
          "model_module_version": "1.5.0",
          "state": {
            "_dom_classes": [],
            "_model_module": "@jupyter-widgets/controls",
            "_model_module_version": "1.5.0",
            "_model_name": "HTMLModel",
            "_view_count": null,
            "_view_module": "@jupyter-widgets/controls",
            "_view_module_version": "1.5.0",
            "_view_name": "HTMLView",
            "description": "",
            "description_tooltip": null,
            "layout": "IPY_MODEL_99159b087e074357b3c465e7efca7e0f",
            "placeholder": "​",
            "style": "IPY_MODEL_6e663ce754b341339a6e839aec79edba",
            "value": "Generating train split: "
          }
        },
        "b22b9df485c747c49e17cc03b0ffef3b": {
          "model_module": "@jupyter-widgets/controls",
          "model_name": "FloatProgressModel",
          "model_module_version": "1.5.0",
          "state": {
            "_dom_classes": [],
            "_model_module": "@jupyter-widgets/controls",
            "_model_module_version": "1.5.0",
            "_model_name": "FloatProgressModel",
            "_view_count": null,
            "_view_module": "@jupyter-widgets/controls",
            "_view_module_version": "1.5.0",
            "_view_name": "ProgressView",
            "bar_style": "success",
            "description": "",
            "description_tooltip": null,
            "layout": "IPY_MODEL_b5d19c9ead2245d0875ffcb930c4ce22",
            "max": 1,
            "min": 0,
            "orientation": "horizontal",
            "style": "IPY_MODEL_af89b9ba5ee645b09e73200a4bc95a9f",
            "value": 1
          }
        },
        "71df442c608c43c0a66f914551e64f58": {
          "model_module": "@jupyter-widgets/controls",
          "model_name": "HTMLModel",
          "model_module_version": "1.5.0",
          "state": {
            "_dom_classes": [],
            "_model_module": "@jupyter-widgets/controls",
            "_model_module_version": "1.5.0",
            "_model_name": "HTMLModel",
            "_view_count": null,
            "_view_module": "@jupyter-widgets/controls",
            "_view_module_version": "1.5.0",
            "_view_name": "HTMLView",
            "description": "",
            "description_tooltip": null,
            "layout": "IPY_MODEL_ace848e9e6c346a4bf07b4e387e00469",
            "placeholder": "​",
            "style": "IPY_MODEL_c4df3ce9b4e74f66b52a6f1152cdb5dd",
            "value": " 120/0 [00:00&lt;00:00, 562.55 examples/s]"
          }
        },
        "78a39817f2254ea18a4a1182cc9ea7d8": {
          "model_module": "@jupyter-widgets/base",
          "model_name": "LayoutModel",
          "model_module_version": "1.2.0",
          "state": {
            "_model_module": "@jupyter-widgets/base",
            "_model_module_version": "1.2.0",
            "_model_name": "LayoutModel",
            "_view_count": null,
            "_view_module": "@jupyter-widgets/base",
            "_view_module_version": "1.2.0",
            "_view_name": "LayoutView",
            "align_content": null,
            "align_items": null,
            "align_self": null,
            "border": null,
            "bottom": null,
            "display": null,
            "flex": null,
            "flex_flow": null,
            "grid_area": null,
            "grid_auto_columns": null,
            "grid_auto_flow": null,
            "grid_auto_rows": null,
            "grid_column": null,
            "grid_gap": null,
            "grid_row": null,
            "grid_template_areas": null,
            "grid_template_columns": null,
            "grid_template_rows": null,
            "height": null,
            "justify_content": null,
            "justify_items": null,
            "left": null,
            "margin": null,
            "max_height": null,
            "max_width": null,
            "min_height": null,
            "min_width": null,
            "object_fit": null,
            "object_position": null,
            "order": null,
            "overflow": null,
            "overflow_x": null,
            "overflow_y": null,
            "padding": null,
            "right": null,
            "top": null,
            "visibility": null,
            "width": null
          }
        },
        "99159b087e074357b3c465e7efca7e0f": {
          "model_module": "@jupyter-widgets/base",
          "model_name": "LayoutModel",
          "model_module_version": "1.2.0",
          "state": {
            "_model_module": "@jupyter-widgets/base",
            "_model_module_version": "1.2.0",
            "_model_name": "LayoutModel",
            "_view_count": null,
            "_view_module": "@jupyter-widgets/base",
            "_view_module_version": "1.2.0",
            "_view_name": "LayoutView",
            "align_content": null,
            "align_items": null,
            "align_self": null,
            "border": null,
            "bottom": null,
            "display": null,
            "flex": null,
            "flex_flow": null,
            "grid_area": null,
            "grid_auto_columns": null,
            "grid_auto_flow": null,
            "grid_auto_rows": null,
            "grid_column": null,
            "grid_gap": null,
            "grid_row": null,
            "grid_template_areas": null,
            "grid_template_columns": null,
            "grid_template_rows": null,
            "height": null,
            "justify_content": null,
            "justify_items": null,
            "left": null,
            "margin": null,
            "max_height": null,
            "max_width": null,
            "min_height": null,
            "min_width": null,
            "object_fit": null,
            "object_position": null,
            "order": null,
            "overflow": null,
            "overflow_x": null,
            "overflow_y": null,
            "padding": null,
            "right": null,
            "top": null,
            "visibility": null,
            "width": null
          }
        },
        "6e663ce754b341339a6e839aec79edba": {
          "model_module": "@jupyter-widgets/controls",
          "model_name": "DescriptionStyleModel",
          "model_module_version": "1.5.0",
          "state": {
            "_model_module": "@jupyter-widgets/controls",
            "_model_module_version": "1.5.0",
            "_model_name": "DescriptionStyleModel",
            "_view_count": null,
            "_view_module": "@jupyter-widgets/base",
            "_view_module_version": "1.2.0",
            "_view_name": "StyleView",
            "description_width": ""
          }
        },
        "b5d19c9ead2245d0875ffcb930c4ce22": {
          "model_module": "@jupyter-widgets/base",
          "model_name": "LayoutModel",
          "model_module_version": "1.2.0",
          "state": {
            "_model_module": "@jupyter-widgets/base",
            "_model_module_version": "1.2.0",
            "_model_name": "LayoutModel",
            "_view_count": null,
            "_view_module": "@jupyter-widgets/base",
            "_view_module_version": "1.2.0",
            "_view_name": "LayoutView",
            "align_content": null,
            "align_items": null,
            "align_self": null,
            "border": null,
            "bottom": null,
            "display": null,
            "flex": null,
            "flex_flow": null,
            "grid_area": null,
            "grid_auto_columns": null,
            "grid_auto_flow": null,
            "grid_auto_rows": null,
            "grid_column": null,
            "grid_gap": null,
            "grid_row": null,
            "grid_template_areas": null,
            "grid_template_columns": null,
            "grid_template_rows": null,
            "height": null,
            "justify_content": null,
            "justify_items": null,
            "left": null,
            "margin": null,
            "max_height": null,
            "max_width": null,
            "min_height": null,
            "min_width": null,
            "object_fit": null,
            "object_position": null,
            "order": null,
            "overflow": null,
            "overflow_x": null,
            "overflow_y": null,
            "padding": null,
            "right": null,
            "top": null,
            "visibility": null,
            "width": "20px"
          }
        },
        "af89b9ba5ee645b09e73200a4bc95a9f": {
          "model_module": "@jupyter-widgets/controls",
          "model_name": "ProgressStyleModel",
          "model_module_version": "1.5.0",
          "state": {
            "_model_module": "@jupyter-widgets/controls",
            "_model_module_version": "1.5.0",
            "_model_name": "ProgressStyleModel",
            "_view_count": null,
            "_view_module": "@jupyter-widgets/base",
            "_view_module_version": "1.2.0",
            "_view_name": "StyleView",
            "bar_color": null,
            "description_width": ""
          }
        },
        "ace848e9e6c346a4bf07b4e387e00469": {
          "model_module": "@jupyter-widgets/base",
          "model_name": "LayoutModel",
          "model_module_version": "1.2.0",
          "state": {
            "_model_module": "@jupyter-widgets/base",
            "_model_module_version": "1.2.0",
            "_model_name": "LayoutModel",
            "_view_count": null,
            "_view_module": "@jupyter-widgets/base",
            "_view_module_version": "1.2.0",
            "_view_name": "LayoutView",
            "align_content": null,
            "align_items": null,
            "align_self": null,
            "border": null,
            "bottom": null,
            "display": null,
            "flex": null,
            "flex_flow": null,
            "grid_area": null,
            "grid_auto_columns": null,
            "grid_auto_flow": null,
            "grid_auto_rows": null,
            "grid_column": null,
            "grid_gap": null,
            "grid_row": null,
            "grid_template_areas": null,
            "grid_template_columns": null,
            "grid_template_rows": null,
            "height": null,
            "justify_content": null,
            "justify_items": null,
            "left": null,
            "margin": null,
            "max_height": null,
            "max_width": null,
            "min_height": null,
            "min_width": null,
            "object_fit": null,
            "object_position": null,
            "order": null,
            "overflow": null,
            "overflow_x": null,
            "overflow_y": null,
            "padding": null,
            "right": null,
            "top": null,
            "visibility": null,
            "width": null
          }
        },
        "c4df3ce9b4e74f66b52a6f1152cdb5dd": {
          "model_module": "@jupyter-widgets/controls",
          "model_name": "DescriptionStyleModel",
          "model_module_version": "1.5.0",
          "state": {
            "_model_module": "@jupyter-widgets/controls",
            "_model_module_version": "1.5.0",
            "_model_name": "DescriptionStyleModel",
            "_view_count": null,
            "_view_module": "@jupyter-widgets/base",
            "_view_module_version": "1.2.0",
            "_view_name": "StyleView",
            "description_width": ""
          }
        },
        "88fc25dddde4491c962f4ca694082d20": {
          "model_module": "@jupyter-widgets/controls",
          "model_name": "HBoxModel",
          "model_module_version": "1.5.0",
          "state": {
            "_dom_classes": [],
            "_model_module": "@jupyter-widgets/controls",
            "_model_module_version": "1.5.0",
            "_model_name": "HBoxModel",
            "_view_count": null,
            "_view_module": "@jupyter-widgets/controls",
            "_view_module_version": "1.5.0",
            "_view_name": "HBoxView",
            "box_style": "",
            "children": [
              "IPY_MODEL_f036148f5c8545db93cdb5404595099d",
              "IPY_MODEL_11a6342aed944154953a646ccbfc1727",
              "IPY_MODEL_f91d4ab8c73340b1a5a3feba1b1dfc8b"
            ],
            "layout": "IPY_MODEL_9123fb8328c043639d5d8fa705f93695"
          }
        },
        "f036148f5c8545db93cdb5404595099d": {
          "model_module": "@jupyter-widgets/controls",
          "model_name": "HTMLModel",
          "model_module_version": "1.5.0",
          "state": {
            "_dom_classes": [],
            "_model_module": "@jupyter-widgets/controls",
            "_model_module_version": "1.5.0",
            "_model_name": "HTMLModel",
            "_view_count": null,
            "_view_module": "@jupyter-widgets/controls",
            "_view_module_version": "1.5.0",
            "_view_name": "HTMLView",
            "description": "",
            "description_tooltip": null,
            "layout": "IPY_MODEL_3418be7345d44d69863d12922492d041",
            "placeholder": "​",
            "style": "IPY_MODEL_d2b33884bed440f6843e2d653ea8c860",
            "value": "Generating test split: "
          }
        },
        "11a6342aed944154953a646ccbfc1727": {
          "model_module": "@jupyter-widgets/controls",
          "model_name": "FloatProgressModel",
          "model_module_version": "1.5.0",
          "state": {
            "_dom_classes": [],
            "_model_module": "@jupyter-widgets/controls",
            "_model_module_version": "1.5.0",
            "_model_name": "FloatProgressModel",
            "_view_count": null,
            "_view_module": "@jupyter-widgets/controls",
            "_view_module_version": "1.5.0",
            "_view_name": "ProgressView",
            "bar_style": "success",
            "description": "",
            "description_tooltip": null,
            "layout": "IPY_MODEL_9d47e01acb264c5abda303693f54d2a0",
            "max": 1,
            "min": 0,
            "orientation": "horizontal",
            "style": "IPY_MODEL_650cae4e0f224846b538b09ed32f1dc7",
            "value": 1
          }
        },
        "f91d4ab8c73340b1a5a3feba1b1dfc8b": {
          "model_module": "@jupyter-widgets/controls",
          "model_name": "HTMLModel",
          "model_module_version": "1.5.0",
          "state": {
            "_dom_classes": [],
            "_model_module": "@jupyter-widgets/controls",
            "_model_module_version": "1.5.0",
            "_model_name": "HTMLModel",
            "_view_count": null,
            "_view_module": "@jupyter-widgets/controls",
            "_view_module_version": "1.5.0",
            "_view_name": "HTMLView",
            "description": "",
            "description_tooltip": null,
            "layout": "IPY_MODEL_495e748181c84d27a0159e5495b142ab",
            "placeholder": "​",
            "style": "IPY_MODEL_68b57e7e498748a3a912bff79aa9e259",
            "value": " 30/0 [00:00&lt;00:00, 307.95 examples/s]"
          }
        },
        "9123fb8328c043639d5d8fa705f93695": {
          "model_module": "@jupyter-widgets/base",
          "model_name": "LayoutModel",
          "model_module_version": "1.2.0",
          "state": {
            "_model_module": "@jupyter-widgets/base",
            "_model_module_version": "1.2.0",
            "_model_name": "LayoutModel",
            "_view_count": null,
            "_view_module": "@jupyter-widgets/base",
            "_view_module_version": "1.2.0",
            "_view_name": "LayoutView",
            "align_content": null,
            "align_items": null,
            "align_self": null,
            "border": null,
            "bottom": null,
            "display": null,
            "flex": null,
            "flex_flow": null,
            "grid_area": null,
            "grid_auto_columns": null,
            "grid_auto_flow": null,
            "grid_auto_rows": null,
            "grid_column": null,
            "grid_gap": null,
            "grid_row": null,
            "grid_template_areas": null,
            "grid_template_columns": null,
            "grid_template_rows": null,
            "height": null,
            "justify_content": null,
            "justify_items": null,
            "left": null,
            "margin": null,
            "max_height": null,
            "max_width": null,
            "min_height": null,
            "min_width": null,
            "object_fit": null,
            "object_position": null,
            "order": null,
            "overflow": null,
            "overflow_x": null,
            "overflow_y": null,
            "padding": null,
            "right": null,
            "top": null,
            "visibility": null,
            "width": null
          }
        },
        "3418be7345d44d69863d12922492d041": {
          "model_module": "@jupyter-widgets/base",
          "model_name": "LayoutModel",
          "model_module_version": "1.2.0",
          "state": {
            "_model_module": "@jupyter-widgets/base",
            "_model_module_version": "1.2.0",
            "_model_name": "LayoutModel",
            "_view_count": null,
            "_view_module": "@jupyter-widgets/base",
            "_view_module_version": "1.2.0",
            "_view_name": "LayoutView",
            "align_content": null,
            "align_items": null,
            "align_self": null,
            "border": null,
            "bottom": null,
            "display": null,
            "flex": null,
            "flex_flow": null,
            "grid_area": null,
            "grid_auto_columns": null,
            "grid_auto_flow": null,
            "grid_auto_rows": null,
            "grid_column": null,
            "grid_gap": null,
            "grid_row": null,
            "grid_template_areas": null,
            "grid_template_columns": null,
            "grid_template_rows": null,
            "height": null,
            "justify_content": null,
            "justify_items": null,
            "left": null,
            "margin": null,
            "max_height": null,
            "max_width": null,
            "min_height": null,
            "min_width": null,
            "object_fit": null,
            "object_position": null,
            "order": null,
            "overflow": null,
            "overflow_x": null,
            "overflow_y": null,
            "padding": null,
            "right": null,
            "top": null,
            "visibility": null,
            "width": null
          }
        },
        "d2b33884bed440f6843e2d653ea8c860": {
          "model_module": "@jupyter-widgets/controls",
          "model_name": "DescriptionStyleModel",
          "model_module_version": "1.5.0",
          "state": {
            "_model_module": "@jupyter-widgets/controls",
            "_model_module_version": "1.5.0",
            "_model_name": "DescriptionStyleModel",
            "_view_count": null,
            "_view_module": "@jupyter-widgets/base",
            "_view_module_version": "1.2.0",
            "_view_name": "StyleView",
            "description_width": ""
          }
        },
        "9d47e01acb264c5abda303693f54d2a0": {
          "model_module": "@jupyter-widgets/base",
          "model_name": "LayoutModel",
          "model_module_version": "1.2.0",
          "state": {
            "_model_module": "@jupyter-widgets/base",
            "_model_module_version": "1.2.0",
            "_model_name": "LayoutModel",
            "_view_count": null,
            "_view_module": "@jupyter-widgets/base",
            "_view_module_version": "1.2.0",
            "_view_name": "LayoutView",
            "align_content": null,
            "align_items": null,
            "align_self": null,
            "border": null,
            "bottom": null,
            "display": null,
            "flex": null,
            "flex_flow": null,
            "grid_area": null,
            "grid_auto_columns": null,
            "grid_auto_flow": null,
            "grid_auto_rows": null,
            "grid_column": null,
            "grid_gap": null,
            "grid_row": null,
            "grid_template_areas": null,
            "grid_template_columns": null,
            "grid_template_rows": null,
            "height": null,
            "justify_content": null,
            "justify_items": null,
            "left": null,
            "margin": null,
            "max_height": null,
            "max_width": null,
            "min_height": null,
            "min_width": null,
            "object_fit": null,
            "object_position": null,
            "order": null,
            "overflow": null,
            "overflow_x": null,
            "overflow_y": null,
            "padding": null,
            "right": null,
            "top": null,
            "visibility": null,
            "width": "20px"
          }
        },
        "650cae4e0f224846b538b09ed32f1dc7": {
          "model_module": "@jupyter-widgets/controls",
          "model_name": "ProgressStyleModel",
          "model_module_version": "1.5.0",
          "state": {
            "_model_module": "@jupyter-widgets/controls",
            "_model_module_version": "1.5.0",
            "_model_name": "ProgressStyleModel",
            "_view_count": null,
            "_view_module": "@jupyter-widgets/base",
            "_view_module_version": "1.2.0",
            "_view_name": "StyleView",
            "bar_color": null,
            "description_width": ""
          }
        },
        "495e748181c84d27a0159e5495b142ab": {
          "model_module": "@jupyter-widgets/base",
          "model_name": "LayoutModel",
          "model_module_version": "1.2.0",
          "state": {
            "_model_module": "@jupyter-widgets/base",
            "_model_module_version": "1.2.0",
            "_model_name": "LayoutModel",
            "_view_count": null,
            "_view_module": "@jupyter-widgets/base",
            "_view_module_version": "1.2.0",
            "_view_name": "LayoutView",
            "align_content": null,
            "align_items": null,
            "align_self": null,
            "border": null,
            "bottom": null,
            "display": null,
            "flex": null,
            "flex_flow": null,
            "grid_area": null,
            "grid_auto_columns": null,
            "grid_auto_flow": null,
            "grid_auto_rows": null,
            "grid_column": null,
            "grid_gap": null,
            "grid_row": null,
            "grid_template_areas": null,
            "grid_template_columns": null,
            "grid_template_rows": null,
            "height": null,
            "justify_content": null,
            "justify_items": null,
            "left": null,
            "margin": null,
            "max_height": null,
            "max_width": null,
            "min_height": null,
            "min_width": null,
            "object_fit": null,
            "object_position": null,
            "order": null,
            "overflow": null,
            "overflow_x": null,
            "overflow_y": null,
            "padding": null,
            "right": null,
            "top": null,
            "visibility": null,
            "width": null
          }
        },
        "68b57e7e498748a3a912bff79aa9e259": {
          "model_module": "@jupyter-widgets/controls",
          "model_name": "DescriptionStyleModel",
          "model_module_version": "1.5.0",
          "state": {
            "_model_module": "@jupyter-widgets/controls",
            "_model_module_version": "1.5.0",
            "_model_name": "DescriptionStyleModel",
            "_view_count": null,
            "_view_module": "@jupyter-widgets/base",
            "_view_module_version": "1.2.0",
            "_view_name": "StyleView",
            "description_width": ""
          }
        },
        "04a11608b0514571bfed2c8648945a71": {
          "model_module": "@jupyter-widgets/controls",
          "model_name": "VBoxModel",
          "model_module_version": "1.5.0",
          "state": {
            "_dom_classes": [],
            "_model_module": "@jupyter-widgets/controls",
            "_model_module_version": "1.5.0",
            "_model_name": "VBoxModel",
            "_view_count": null,
            "_view_module": "@jupyter-widgets/controls",
            "_view_module_version": "1.5.0",
            "_view_name": "VBoxView",
            "box_style": "",
            "children": [
              "IPY_MODEL_843d5cb46e0a403c9be5db6217b0fb1a",
              "IPY_MODEL_30ca204dc4b34330adad422ea5fd7991"
            ],
            "layout": "IPY_MODEL_7c2b0065907943058cb665047dbd33fe"
          }
        },
        "843d5cb46e0a403c9be5db6217b0fb1a": {
          "model_module": "@jupyter-widgets/controls",
          "model_name": "LabelModel",
          "model_module_version": "1.5.0",
          "state": {
            "_dom_classes": [],
            "_model_module": "@jupyter-widgets/controls",
            "_model_module_version": "1.5.0",
            "_model_name": "LabelModel",
            "_view_count": null,
            "_view_module": "@jupyter-widgets/controls",
            "_view_module_version": "1.5.0",
            "_view_name": "LabelView",
            "description": "",
            "description_tooltip": null,
            "layout": "IPY_MODEL_87b27e3859764a1cb994dd5389eb3df2",
            "placeholder": "​",
            "style": "IPY_MODEL_b450d8fbe7dc4ec9b455a23ca630a963",
            "value": "Waiting for wandb.init()...\r"
          }
        },
        "30ca204dc4b34330adad422ea5fd7991": {
          "model_module": "@jupyter-widgets/controls",
          "model_name": "FloatProgressModel",
          "model_module_version": "1.5.0",
          "state": {
            "_dom_classes": [],
            "_model_module": "@jupyter-widgets/controls",
            "_model_module_version": "1.5.0",
            "_model_name": "FloatProgressModel",
            "_view_count": null,
            "_view_module": "@jupyter-widgets/controls",
            "_view_module_version": "1.5.0",
            "_view_name": "ProgressView",
            "bar_style": "",
            "description": "",
            "description_tooltip": null,
            "layout": "IPY_MODEL_175799ea5f424db7a0155092c6fd74d1",
            "max": 1,
            "min": 0,
            "orientation": "horizontal",
            "style": "IPY_MODEL_331ec9cb7d8345da9d0b0f1f602c221f",
            "value": 1
          }
        },
        "7c2b0065907943058cb665047dbd33fe": {
          "model_module": "@jupyter-widgets/base",
          "model_name": "LayoutModel",
          "model_module_version": "1.2.0",
          "state": {
            "_model_module": "@jupyter-widgets/base",
            "_model_module_version": "1.2.0",
            "_model_name": "LayoutModel",
            "_view_count": null,
            "_view_module": "@jupyter-widgets/base",
            "_view_module_version": "1.2.0",
            "_view_name": "LayoutView",
            "align_content": null,
            "align_items": null,
            "align_self": null,
            "border": null,
            "bottom": null,
            "display": null,
            "flex": null,
            "flex_flow": null,
            "grid_area": null,
            "grid_auto_columns": null,
            "grid_auto_flow": null,
            "grid_auto_rows": null,
            "grid_column": null,
            "grid_gap": null,
            "grid_row": null,
            "grid_template_areas": null,
            "grid_template_columns": null,
            "grid_template_rows": null,
            "height": null,
            "justify_content": null,
            "justify_items": null,
            "left": null,
            "margin": null,
            "max_height": null,
            "max_width": null,
            "min_height": null,
            "min_width": null,
            "object_fit": null,
            "object_position": null,
            "order": null,
            "overflow": null,
            "overflow_x": null,
            "overflow_y": null,
            "padding": null,
            "right": null,
            "top": null,
            "visibility": null,
            "width": null
          }
        },
        "87b27e3859764a1cb994dd5389eb3df2": {
          "model_module": "@jupyter-widgets/base",
          "model_name": "LayoutModel",
          "model_module_version": "1.2.0",
          "state": {
            "_model_module": "@jupyter-widgets/base",
            "_model_module_version": "1.2.0",
            "_model_name": "LayoutModel",
            "_view_count": null,
            "_view_module": "@jupyter-widgets/base",
            "_view_module_version": "1.2.0",
            "_view_name": "LayoutView",
            "align_content": null,
            "align_items": null,
            "align_self": null,
            "border": null,
            "bottom": null,
            "display": null,
            "flex": null,
            "flex_flow": null,
            "grid_area": null,
            "grid_auto_columns": null,
            "grid_auto_flow": null,
            "grid_auto_rows": null,
            "grid_column": null,
            "grid_gap": null,
            "grid_row": null,
            "grid_template_areas": null,
            "grid_template_columns": null,
            "grid_template_rows": null,
            "height": null,
            "justify_content": null,
            "justify_items": null,
            "left": null,
            "margin": null,
            "max_height": null,
            "max_width": null,
            "min_height": null,
            "min_width": null,
            "object_fit": null,
            "object_position": null,
            "order": null,
            "overflow": null,
            "overflow_x": null,
            "overflow_y": null,
            "padding": null,
            "right": null,
            "top": null,
            "visibility": null,
            "width": null
          }
        },
        "b450d8fbe7dc4ec9b455a23ca630a963": {
          "model_module": "@jupyter-widgets/controls",
          "model_name": "DescriptionStyleModel",
          "model_module_version": "1.5.0",
          "state": {
            "_model_module": "@jupyter-widgets/controls",
            "_model_module_version": "1.5.0",
            "_model_name": "DescriptionStyleModel",
            "_view_count": null,
            "_view_module": "@jupyter-widgets/base",
            "_view_module_version": "1.2.0",
            "_view_name": "StyleView",
            "description_width": ""
          }
        },
        "175799ea5f424db7a0155092c6fd74d1": {
          "model_module": "@jupyter-widgets/base",
          "model_name": "LayoutModel",
          "model_module_version": "1.2.0",
          "state": {
            "_model_module": "@jupyter-widgets/base",
            "_model_module_version": "1.2.0",
            "_model_name": "LayoutModel",
            "_view_count": null,
            "_view_module": "@jupyter-widgets/base",
            "_view_module_version": "1.2.0",
            "_view_name": "LayoutView",
            "align_content": null,
            "align_items": null,
            "align_self": null,
            "border": null,
            "bottom": null,
            "display": null,
            "flex": null,
            "flex_flow": null,
            "grid_area": null,
            "grid_auto_columns": null,
            "grid_auto_flow": null,
            "grid_auto_rows": null,
            "grid_column": null,
            "grid_gap": null,
            "grid_row": null,
            "grid_template_areas": null,
            "grid_template_columns": null,
            "grid_template_rows": null,
            "height": null,
            "justify_content": null,
            "justify_items": null,
            "left": null,
            "margin": null,
            "max_height": null,
            "max_width": null,
            "min_height": null,
            "min_width": null,
            "object_fit": null,
            "object_position": null,
            "order": null,
            "overflow": null,
            "overflow_x": null,
            "overflow_y": null,
            "padding": null,
            "right": null,
            "top": null,
            "visibility": null,
            "width": null
          }
        },
        "331ec9cb7d8345da9d0b0f1f602c221f": {
          "model_module": "@jupyter-widgets/controls",
          "model_name": "ProgressStyleModel",
          "model_module_version": "1.5.0",
          "state": {
            "_model_module": "@jupyter-widgets/controls",
            "_model_module_version": "1.5.0",
            "_model_name": "ProgressStyleModel",
            "_view_count": null,
            "_view_module": "@jupyter-widgets/base",
            "_view_module_version": "1.2.0",
            "_view_name": "StyleView",
            "bar_color": null,
            "description_width": ""
          }
        },
        "7601a2bfd3314174af590a8c80fdec43": {
          "model_module": "@jupyter-widgets/controls",
          "model_name": "VBoxModel",
          "model_module_version": "1.5.0",
          "state": {
            "_dom_classes": [],
            "_model_module": "@jupyter-widgets/controls",
            "_model_module_version": "1.5.0",
            "_model_name": "VBoxModel",
            "_view_count": null,
            "_view_module": "@jupyter-widgets/controls",
            "_view_module_version": "1.5.0",
            "_view_name": "VBoxView",
            "box_style": "",
            "children": [
              "IPY_MODEL_3c23586d96594b86a9231a34052688ee",
              "IPY_MODEL_145c12f7245e4275946c23f0f8701583"
            ],
            "layout": "IPY_MODEL_503a7aa8ea374d60872fc796a9caf6da"
          }
        },
        "3c23586d96594b86a9231a34052688ee": {
          "model_module": "@jupyter-widgets/controls",
          "model_name": "LabelModel",
          "model_module_version": "1.5.0",
          "state": {
            "_dom_classes": [],
            "_model_module": "@jupyter-widgets/controls",
            "_model_module_version": "1.5.0",
            "_model_name": "LabelModel",
            "_view_count": null,
            "_view_module": "@jupyter-widgets/controls",
            "_view_module_version": "1.5.0",
            "_view_name": "LabelView",
            "description": "",
            "description_tooltip": null,
            "layout": "IPY_MODEL_5b7b237c2026442886526d10e2876954",
            "placeholder": "​",
            "style": "IPY_MODEL_2682678fed18438bb42ed636d7ddf7c0",
            "value": "0.022 MB of 0.022 MB uploaded\r"
          }
        },
        "145c12f7245e4275946c23f0f8701583": {
          "model_module": "@jupyter-widgets/controls",
          "model_name": "FloatProgressModel",
          "model_module_version": "1.5.0",
          "state": {
            "_dom_classes": [],
            "_model_module": "@jupyter-widgets/controls",
            "_model_module_version": "1.5.0",
            "_model_name": "FloatProgressModel",
            "_view_count": null,
            "_view_module": "@jupyter-widgets/controls",
            "_view_module_version": "1.5.0",
            "_view_name": "ProgressView",
            "bar_style": "",
            "description": "",
            "description_tooltip": null,
            "layout": "IPY_MODEL_426ad18ccd29473784ce1d45379a2984",
            "max": 1,
            "min": 0,
            "orientation": "horizontal",
            "style": "IPY_MODEL_bc772a7fb51943cc8ce281362530390a",
            "value": 1
          }
        },
        "503a7aa8ea374d60872fc796a9caf6da": {
          "model_module": "@jupyter-widgets/base",
          "model_name": "LayoutModel",
          "model_module_version": "1.2.0",
          "state": {
            "_model_module": "@jupyter-widgets/base",
            "_model_module_version": "1.2.0",
            "_model_name": "LayoutModel",
            "_view_count": null,
            "_view_module": "@jupyter-widgets/base",
            "_view_module_version": "1.2.0",
            "_view_name": "LayoutView",
            "align_content": null,
            "align_items": null,
            "align_self": null,
            "border": null,
            "bottom": null,
            "display": null,
            "flex": null,
            "flex_flow": null,
            "grid_area": null,
            "grid_auto_columns": null,
            "grid_auto_flow": null,
            "grid_auto_rows": null,
            "grid_column": null,
            "grid_gap": null,
            "grid_row": null,
            "grid_template_areas": null,
            "grid_template_columns": null,
            "grid_template_rows": null,
            "height": null,
            "justify_content": null,
            "justify_items": null,
            "left": null,
            "margin": null,
            "max_height": null,
            "max_width": null,
            "min_height": null,
            "min_width": null,
            "object_fit": null,
            "object_position": null,
            "order": null,
            "overflow": null,
            "overflow_x": null,
            "overflow_y": null,
            "padding": null,
            "right": null,
            "top": null,
            "visibility": null,
            "width": null
          }
        },
        "5b7b237c2026442886526d10e2876954": {
          "model_module": "@jupyter-widgets/base",
          "model_name": "LayoutModel",
          "model_module_version": "1.2.0",
          "state": {
            "_model_module": "@jupyter-widgets/base",
            "_model_module_version": "1.2.0",
            "_model_name": "LayoutModel",
            "_view_count": null,
            "_view_module": "@jupyter-widgets/base",
            "_view_module_version": "1.2.0",
            "_view_name": "LayoutView",
            "align_content": null,
            "align_items": null,
            "align_self": null,
            "border": null,
            "bottom": null,
            "display": null,
            "flex": null,
            "flex_flow": null,
            "grid_area": null,
            "grid_auto_columns": null,
            "grid_auto_flow": null,
            "grid_auto_rows": null,
            "grid_column": null,
            "grid_gap": null,
            "grid_row": null,
            "grid_template_areas": null,
            "grid_template_columns": null,
            "grid_template_rows": null,
            "height": null,
            "justify_content": null,
            "justify_items": null,
            "left": null,
            "margin": null,
            "max_height": null,
            "max_width": null,
            "min_height": null,
            "min_width": null,
            "object_fit": null,
            "object_position": null,
            "order": null,
            "overflow": null,
            "overflow_x": null,
            "overflow_y": null,
            "padding": null,
            "right": null,
            "top": null,
            "visibility": null,
            "width": null
          }
        },
        "2682678fed18438bb42ed636d7ddf7c0": {
          "model_module": "@jupyter-widgets/controls",
          "model_name": "DescriptionStyleModel",
          "model_module_version": "1.5.0",
          "state": {
            "_model_module": "@jupyter-widgets/controls",
            "_model_module_version": "1.5.0",
            "_model_name": "DescriptionStyleModel",
            "_view_count": null,
            "_view_module": "@jupyter-widgets/base",
            "_view_module_version": "1.2.0",
            "_view_name": "StyleView",
            "description_width": ""
          }
        },
        "426ad18ccd29473784ce1d45379a2984": {
          "model_module": "@jupyter-widgets/base",
          "model_name": "LayoutModel",
          "model_module_version": "1.2.0",
          "state": {
            "_model_module": "@jupyter-widgets/base",
            "_model_module_version": "1.2.0",
            "_model_name": "LayoutModel",
            "_view_count": null,
            "_view_module": "@jupyter-widgets/base",
            "_view_module_version": "1.2.0",
            "_view_name": "LayoutView",
            "align_content": null,
            "align_items": null,
            "align_self": null,
            "border": null,
            "bottom": null,
            "display": null,
            "flex": null,
            "flex_flow": null,
            "grid_area": null,
            "grid_auto_columns": null,
            "grid_auto_flow": null,
            "grid_auto_rows": null,
            "grid_column": null,
            "grid_gap": null,
            "grid_row": null,
            "grid_template_areas": null,
            "grid_template_columns": null,
            "grid_template_rows": null,
            "height": null,
            "justify_content": null,
            "justify_items": null,
            "left": null,
            "margin": null,
            "max_height": null,
            "max_width": null,
            "min_height": null,
            "min_width": null,
            "object_fit": null,
            "object_position": null,
            "order": null,
            "overflow": null,
            "overflow_x": null,
            "overflow_y": null,
            "padding": null,
            "right": null,
            "top": null,
            "visibility": null,
            "width": null
          }
        },
        "bc772a7fb51943cc8ce281362530390a": {
          "model_module": "@jupyter-widgets/controls",
          "model_name": "ProgressStyleModel",
          "model_module_version": "1.5.0",
          "state": {
            "_model_module": "@jupyter-widgets/controls",
            "_model_module_version": "1.5.0",
            "_model_name": "ProgressStyleModel",
            "_view_count": null,
            "_view_module": "@jupyter-widgets/base",
            "_view_module_version": "1.2.0",
            "_view_name": "StyleView",
            "bar_color": null,
            "description_width": ""
          }
        }
      }
    }
  },
  "nbformat": 4,
  "nbformat_minor": 0
}